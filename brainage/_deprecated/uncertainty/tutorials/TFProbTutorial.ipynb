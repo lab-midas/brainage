{
 "cells": [
  {
   "cell_type": "code",
   "execution_count": 82,
   "metadata": {
    "pycharm": {
     "name": "#%%\n"
    }
   },
   "outputs": [],
   "source": [
    "import tensorflow as tf\n",
    "import tensorflow_probability as tfp\n",
    "import matplotlib.pyplot as plt\n",
    "import numpy as np\n",
    "%matplotlib inline\n",
    "tfd = tfp.distributions\n",
    "\n",
    "# https://blog.tensorflow.org/2019/03/regression-with-probabilistic-layers-in.html"
   ]
  },
  {
   "cell_type": "code",
   "execution_count": 83,
   "metadata": {},
   "outputs": [],
   "source": [
    "# Neg-Loglikelihood function.\n",
    "negloglik = lambda y, p_y: -p_y.log_prob(y)"
   ]
  },
  {
   "cell_type": "code",
   "execution_count": 150,
   "metadata": {
    "pycharm": {
     "name": "#%%\n"
    }
   },
   "outputs": [
    {
     "data": {
      "text/plain": [
       "<matplotlib.collections.PathCollection at 0x7fbfd8387d90>"
      ]
     },
     "execution_count": 150,
     "metadata": {},
     "output_type": "execute_result"
    },
    {
     "data": {
      "image/png": "[encoded data removed]",
      "text/plain": [
       "<Figure size 432x288 with 1 Axes>"
      ]
     },
     "metadata": {
      "needs_background": "light"
     },
     "output_type": "display_data"
    }
   ],
   "source": [
    "# Generate data samples with heteroscedastic noise.\n",
    "n_points=70\n",
    "xmin = -3.0\n",
    "xmax = 5.0\n",
    "x=tf.random.uniform([n_points],minval=xmin,maxval=xmax)\n",
    "dist = tfd.Normal(loc=0.0,scale=1.0)\n",
    "eps1 = dist.sample([n_points])\n",
    "eps2 = dist.sample([n_points])\n",
    "\n",
    "def func(x, eps1, eps2):\n",
    "    return 0.5*x+0.1*eps1+1.6*x*eps2+1\n",
    "y=func(x, eps1, eps2)\n",
    "plt.scatter(x, y)"
   ]
  },
  {
   "cell_type": "markdown",
   "metadata": {
    "pycharm": {
     "name": "#%% md\n"
    }
   },
   "source": [
    "## Simple linear regression, no uncertainty."
   ]
  },
  {
   "cell_type": "code",
   "execution_count": 151,
   "metadata": {},
   "outputs": [
    {
     "name": "stdout",
     "output_type": "stream",
     "text": [
      "0.3917166\n",
      "0.8256035\n"
     ]
    },
    {
     "data": {
      "text/plain": [
       "[None, None]"
      ]
     },
     "execution_count": 151,
     "metadata": {},
     "output_type": "execute_result"
    }
   ],
   "source": [
    "# Simple linear regression model.\n",
    "model = tf.keras.Sequential([\n",
    "    tf.keras.layers.Dense(1),\n",
    "    tfp.layers.DistributionLambda(lambda t: tfd.Normal(loc=t, scale=1))\n",
    "])\n",
    "\n",
    "# Do inference.\n",
    "model.compile(optimizer=tf.optimizers.Adam(learning_rate=0.05), loss=negloglik)\n",
    "model.fit(x, y, epochs=1000, verbose=False)\n",
    "[print(np.squeeze(w.numpy())) for w in model.weights]"
   ]
  },
  {
   "cell_type": "code",
   "execution_count": 152,
   "metadata": {
    "pycharm": {
     "name": "#%%\n"
    }
   },
   "outputs": [
    {
     "data": {
      "image/png": "[encoded data removed]",
      "text/plain": [
       "<Figure size 432x288 with 1 Axes>"
      ]
     },
     "metadata": {
      "needs_background": "light"
     },
     "output_type": "display_data"
    }
   ],
   "source": [
    "# Evaluate test points.\n",
    "xtst = tf.expand_dims(tf.linspace(xmin, xmax, 100), 1)\n",
    "ydist = model(xtst)\n",
    "\n",
    "plt.plot(xtst, ydist.mean(), 'r', linewidth=2)\n",
    "plt.scatter(x, y)\n",
    "plt.show()"
   ]
  },
  {
   "cell_type": "markdown",
   "metadata": {
    "pycharm": {
     "name": "#%% md\n"
    }
   },
   "source": [
    "## Aleatoric uncertainty"
   ]
  },
  {
   "cell_type": "code",
   "execution_count": 153,
   "metadata": {},
   "outputs": [
    {
     "data": {
      "text/plain": [
       "<tensorflow.python.keras.callbacks.History at 0x7fc06466f0d0>"
      ]
     },
     "execution_count": 153,
     "metadata": {},
     "output_type": "execute_result"
    }
   ],
   "source": [
    "# Linear regression model, computing mean and variance of the predictive distribution.\n",
    "model2 = tf.keras.Sequential([\n",
    "    tf.keras.layers.Dense(1 + 1),\n",
    "    tfp.layers.DistributionLambda(lambda t: tfd.Normal(loc=t[..., :1], \n",
    "                                                       scale=1e-3 + tf.math.softplus(0.05*t[..., 1:])))\n",
    "])\n",
    "\n",
    "# Do inference.\n",
    "model2.compile(optimizer=tf.optimizers.Adam(learning_rate=0.05), loss=negloglik)\n",
    "model2.fit(x, y, epochs=500, verbose=False)"
   ]
  },
  {
   "cell_type": "code",
   "execution_count": null,
   "outputs": [],
   "source": [
    "# evaluate test points\n",
    "xtst = tf.expand_dims(tf.linspace(xmin, xmax, 100), 1)\n",
    "ydist = model2(xtst)\n",
    "\n",
    "plt.plot(xtst, ydist.mean(), 'r', linewidth=2)\n",
    "plt.plot(xtst, ydist.mean() + 2*ydist.stddev(), 'g', linewidth=2)\n",
    "plt.plot(xtst, ydist.mean() - 2*ydist.stddev(), 'g', linewidth=2)\n",
    "plt.scatter(x, y)\n",
    "plt.show()"
   ],
   "metadata": {
    "collapsed": false,
    "pycharm": {
     "name": "#%%\n"
    }
   }
  },
  {
   "cell_type": "markdown",
   "source": [
    "## Bayesian regression"
   ],
   "metadata": {
    "collapsed": false
   }
  },
  {
   "cell_type": "code",
   "execution_count": null,
   "outputs": [],
   "source": [
    "def posterior_mean_field(kernel_size, bias_size=0, dtype=None):\n",
    "      n = kernel_size + bias_size\n",
    "      c = np.log(np.expm1(1.))\n",
    "      return tf.keras.Sequential([\n",
    "          tfp.layers.VariableLayer(2 * n, dtype=dtype),\n",
    "          tfp.layers.DistributionLambda(lambda t: tfd.Independent(\n",
    "              tfd.Normal(loc=t[..., :n],\n",
    "                         scale=1e-5 + tf.nn.softplus(c + t[..., n:])),\n",
    "              reinterpreted_batch_ndims=1)),\n",
    "      ])"
   ],
   "metadata": {
    "collapsed": false,
    "pycharm": {
     "name": "#%%\n"
    }
   }
  },
  {
   "cell_type": "code",
   "execution_count": null,
   "outputs": [],
   "source": [
    "def prior_trainable(kernel_size, bias_size=0, dtype=None):\n",
    "      n = kernel_size + bias_size\n",
    "      return tf.keras.Sequential([\n",
    "          tfp.layers.VariableLayer(n, dtype=dtype),\n",
    "          tfp.layers.DistributionLambda(lambda t: tfd.Independent(\n",
    "              tfd.Normal(loc=t, scale=1),\n",
    "              reinterpreted_batch_ndims=1)),\n",
    "      ])"
   ],
   "metadata": {
    "collapsed": false,
    "pycharm": {
     "name": "#%%\n"
    }
   }
  },
  {
   "cell_type": "code",
   "execution_count": null,
   "outputs": [],
   "source": [
    "# Linear regression model with DenseVariational Layer, capturing epistemic uncertainty.\n",
    "model = tf.keras.Sequential([\n",
    "    tfp.layers.DenseVariational(1, posterior_mean_field, prior_trainable, kl_weight=1/x.shape[0]),\n",
    "    tfp.layers.DistributionLambda(lambda t: tfd.Normal(loc=t, scale=1))\n",
    "])\n",
    "# Do inference.\n",
    "model.compile(optimizer=tf.optimizers.Adam(learning_rate=0.05), loss=negloglik)\n",
    "model.fit(x, y, epochs=500, verbose=False)\n",
    "[print(np.squeeze(w.numpy())) for w in model.weights]"
   ],
   "metadata": {
    "collapsed": false,
    "pycharm": {
     "name": "#%%\n"
    }
   }
  },
  {
   "cell_type": "code",
   "execution_count": null,
   "outputs": [],
   "source": [
    "# evaluate test points\n",
    "xtst = tf.expand_dims(tf.linspace(-2*abs(xmin), 2*xmax, 100), 1)\n",
    "ydists = [model(xtst) for i in range(20)]\n",
    "\n",
    "for ydist in ydists:\n",
    "    plt.plot(xtst, ydist.mean(), 'r', linewidth=1)\n",
    "plt.scatter(x, y)\n",
    "plt.show()"
   ],
   "metadata": {
    "collapsed": false,
    "pycharm": {
     "name": "#%%\n"
    }
   }
  },
  {
   "cell_type": "markdown",
   "source": [
    "## Bayesian Regression & aleatoric uncertainty"
   ],
   "metadata": {
    "collapsed": false
   }
  },
  {
   "cell_type": "code",
   "execution_count": null,
   "outputs": [],
   "source": [
    "# Linear regression model with DenseVariational Layer, capturing epistemic uncertainty and\n",
    "# dual output to predict gaussian predictive distribution.\n",
    "model = tf.keras.Sequential([\n",
    "  tfp.layers.DenseVariational(1 + 1, posterior_mean_field, prior_trainable, kl_weight=1/x.shape[0]),\n",
    "  tfp.layers.DistributionLambda(\n",
    "      lambda t: tfd.Normal(loc=t[..., :1],\n",
    "                           scale=1e-3 + tf.math.softplus(0.01 * t[...,1:]))),\n",
    "])"
   ],
   "metadata": {
    "collapsed": false,
    "pycharm": {
     "name": "#%%\n"
    }
   }
  },
  {
   "cell_type": "code",
   "execution_count": null,
   "outputs": [],
   "source": [
    "model.compile(optimizer=tf.optimizers.Adam(learning_rate=0.01), loss=negloglik)\n",
    "model.fit(x, y, epochs=1000, verbose=False)\n",
    "[print(np.squeeze(w.numpy())) for w in model.weights]"
   ],
   "metadata": {
    "collapsed": false,
    "pycharm": {
     "name": "#%%\n"
    }
   }
  },
  {
   "cell_type": "code",
   "execution_count": null,
   "outputs": [],
   "source": [
    "# evaluate test points\n",
    "xtst = tf.expand_dims(tf.linspace(xmin, xmax, 100), 1)\n",
    "ydists = [model(xtst) for i in range(20)]\n",
    "\n",
    "for ydist in ydists:\n",
    "    plt.plot(xtst, ydist.mean(), 'r', linewidth=1)\n",
    "    plt.plot(xtst, ydist.mean() + 2*ydist.stddev(), 'g', linewidth=1)\n",
    "    plt.plot(xtst, ydist.mean() - 2*ydist.stddev(), 'g', linewidth=1)\n",
    "plt.scatter(x, y)\n",
    "plt.show()"
   ],
   "metadata": {
    "collapsed": false,
    "pycharm": {
     "name": "#%%\n"
    }
   }
  },
  {
   "cell_type": "code",
   "execution_count": null,
   "outputs": [],
   "source": [],
   "metadata": {
    "collapsed": false,
    "pycharm": {
     "name": "#%%\n"
    }
   }
  },
  {
   "cell_type": "code",
   "execution_count": 154,
   "metadata": {},
   "outputs": [
    {
     "data": {
      "image/png": "[encoded data removed]",
      "text/plain": [
       "<Figure size 432x288 with 1 Axes>"
      ]
     },
     "metadata": {
      "needs_background": "light"
     },
     "output_type": "display_data"
    }
   ],
   "source": []
  },
  {
   "cell_type": "markdown",
   "metadata": {},
   "source": [
    "## Bayesian regression"
   ]
  },
  {
   "cell_type": "code",
   "execution_count": 155,
   "metadata": {},
   "outputs": [],
   "source": [
    "def posterior_mean_field(kernel_size, bias_size=0, dtype=None):\n",
    "      n = kernel_size + bias_size\n",
    "      c = np.log(np.expm1(1.))\n",
    "      return tf.keras.Sequential([\n",
    "          tfp.layers.VariableLayer(2 * n, dtype=dtype),\n",
    "          tfp.layers.DistributionLambda(lambda t: tfd.Independent(\n",
    "              tfd.Normal(loc=t[..., :n],\n",
    "                         scale=1e-5 + tf.nn.softplus(c + t[..., n:])),\n",
    "              reinterpreted_batch_ndims=1)),\n",
    "      ])"
   ]
  },
  {
   "cell_type": "code",
   "execution_count": 156,
   "metadata": {},
   "outputs": [],
   "source": [
    "def prior_trainable(kernel_size, bias_size=0, dtype=None):\n",
    "      n = kernel_size + bias_size\n",
    "      return tf.keras.Sequential([\n",
    "          tfp.layers.VariableLayer(n, dtype=dtype),\n",
    "          tfp.layers.DistributionLambda(lambda t: tfd.Independent(\n",
    "              tfd.Normal(loc=t, scale=1),\n",
    "              reinterpreted_batch_ndims=1)),\n",
    "      ])"
   ]
  },
  {
   "cell_type": "code",
   "execution_count": 157,
   "metadata": {},
   "outputs": [
    {
     "name": "stdout",
     "output_type": "stream",
     "text": [
      "[ 0.61601394  0.83708936 -3.3129618  -2.5582066 ]\n",
      "[0.63638663 0.927931  ]\n"
     ]
    },
    {
     "data": {
      "text/plain": [
       "[None, None]"
      ]
     },
     "execution_count": 157,
     "metadata": {},
     "output_type": "execute_result"
    }
   ],
   "source": [
    "# Linear regression model with DenseVariational Layer, capturing epistemic uncertainty.\n",
    "model = tf.keras.Sequential([\n",
    "    tfp.layers.DenseVariational(1, posterior_mean_field, prior_trainable, kl_weight=1/x.shape[0]),\n",
    "    tfp.layers.DistributionLambda(lambda t: tfd.Normal(loc=t, scale=1))\n",
    "])\n",
    "# Do inference.\n",
    "model.compile(optimizer=tf.optimizers.Adam(learning_rate=0.05), loss=negloglik)\n",
    "model.fit(x, y, epochs=500, verbose=False)\n",
    "[print(np.squeeze(w.numpy())) for w in model.weights]"
   ]
  },
  {
   "cell_type": "code",
   "execution_count": 158,
   "metadata": {},
   "outputs": [
    {
     "data": {
      "image/png": "[encoded data removed]",
      "text/plain": [
       "<Figure size 432x288 with 1 Axes>"
      ]
     },
     "metadata": {
      "needs_background": "light"
     },
     "output_type": "display_data"
    }
   ],
   "source": [
    "# evaluate test points\n",
    "xtst = tf.expand_dims(tf.linspace(-2*abs(xmin), 2*xmax, 100), 1)\n",
    "ydists = [model(xtst) for i in range(20)]\n",
    "\n",
    "for ydist in ydists:\n",
    "    plt.plot(xtst, ydist.mean(), 'r', linewidth=1)\n",
    "plt.scatter(x, y)\n",
    "plt.show()"
   ]
  },
  {
   "cell_type": "markdown",
   "metadata": {},
   "source": [
    "## Bayesian Regression & aleatoric uncertainty"
   ]
  },
  {
   "cell_type": "code",
   "execution_count": 159,
   "metadata": {},
   "outputs": [],
   "source": [
    "# Linear regression model with DenseVariational Layer, capturing epistemic uncertainty and\n",
    "# dual output to predict gaussian predictive distribution.\n",
    "model = tf.keras.Sequential([\n",
    "  tfp.layers.DenseVariational(1 + 1, posterior_mean_field, prior_trainable, kl_weight=1/x.shape[0]),\n",
    "  tfp.layers.DistributionLambda(\n",
    "      lambda t: tfd.Normal(loc=t[..., :1],\n",
    "                           scale=1e-3 + tf.math.softplus(0.01 * t[...,1:]))),\n",
    "])"
   ]
  },
  {
   "cell_type": "code",
   "execution_count": 160,
   "metadata": {},
   "outputs": [
    {
     "name": "stdout",
     "output_type": "stream",
     "text": [
      "[ 0.4644162  13.626177    0.80079174 21.896631   -3.0302262  -0.7333347\n",
      " -2.6792781  -0.31840858]\n",
      "[ 0.4607707  13.386719    0.79315585 20.95131   ]\n"
     ]
    },
    {
     "data": {
      "text/plain": [
       "[None, None]"
      ]
     },
     "execution_count": 160,
     "metadata": {},
     "output_type": "execute_result"
    }
   ],
   "source": [
    "model.compile(optimizer=tf.optimizers.Adam(learning_rate=0.01), loss=negloglik)\n",
    "model.fit(x, y, epochs=1000, verbose=False)\n",
    "[print(np.squeeze(w.numpy())) for w in model.weights]"
   ]
  },
  {
   "cell_type": "code",
   "execution_count": 161,
   "metadata": {},
   "outputs": [
    {
     "data": {
      "image/png": "[encoded data removed]",
      "text/plain": [
       "<Figure size 432x288 with 1 Axes>"
      ]
     },
     "metadata": {
      "needs_background": "light"
     },
     "output_type": "display_data"
    }
   ],
   "source": [
    "# evaluate test points\n",
    "xtst = tf.expand_dims(tf.linspace(xmin, xmax, 100), 1)\n",
    "ydists = [model(xtst) for i in range(20)]\n",
    "\n",
    "for ydist in ydists:\n",
    "    plt.plot(xtst, ydist.mean(), 'r', linewidth=1)\n",
    "    plt.plot(xtst, ydist.mean() + 2*ydist.stddev(), 'g', linewidth=1)\n",
    "    plt.plot(xtst, ydist.mean() - 2*ydist.stddev(), 'g', linewidth=1)\n",
    "plt.scatter(x, y)\n",
    "plt.show()"
   ]
  },
  {
   "cell_type": "code",
   "execution_count": null,
   "metadata": {},
   "outputs": [],
   "source": []
  },
  {
   "cell_type": "code",
   "execution_count": null,
   "metadata": {},
   "outputs": [],
   "source": []
  }
 ],
 "metadata": {
  "kernelspec": {
   "display_name": "Python 3",
   "language": "python",
   "name": "python3"
  },
  "language_info": {
   "codemirror_mode": {
    "name": "ipython",
    "version": 3
   },
   "file_extension": ".py",
   "mimetype": "text/x-python",
   "name": "python",
   "nbconvert_exporter": "python",
   "pygments_lexer": "ipython3",
   "version": "3.7.4"
  },
  "pycharm": {
   "stem_cell": {
    "cell_type": "raw",
    "source": [],
    "metadata": {
     "collapsed": false
    }
   }
  }
 },
 "nbformat": 4,
 "nbformat_minor": 1
}