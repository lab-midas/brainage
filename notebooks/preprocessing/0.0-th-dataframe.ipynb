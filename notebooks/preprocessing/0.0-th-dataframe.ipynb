{
 "cells": [
  {
   "cell_type": "code",
   "execution_count": 1,
   "metadata": {},
   "outputs": [
    {
     "output_type": "execute_result",
     "data": {
      "text/plain": "True"
     },
     "metadata": {},
     "execution_count": 1
    }
   ],
   "source": [
    "import os\n",
    "from pathlib import Path\n",
    "\n",
    "import h5py\n",
    "import numpy as np\n",
    "import pandas as pd\n",
    "from dotenv import load_dotenv\n",
    "load_dotenv()"
   ]
  },
  {
   "cell_type": "code",
   "execution_count": 140,
   "metadata": {},
   "outputs": [],
   "source": [
    "select_axis = 2\n",
    "select_res = 10\n",
    "data = Path(os.getenv('DATA'))/'nako'\n",
    "h5_path = Path(data/f'interim/t1_pp_{select_res}_cropped.h5')"
   ]
  },
  {
   "cell_type": "code",
   "execution_count": 141,
   "metadata": {},
   "outputs": [],
   "source": [
    "info_df = pd.read_csv(data/'interim/nako_age_labels.csv', dtype={'key': 'string'})\n",
    "info_df = info_df.set_index('key')"
   ]
  },
  {
   "cell_type": "code",
   "execution_count": 142,
   "metadata": {},
   "outputs": [],
   "source": [
    "transpose = [[0, 1, 2], [1, 0, 2], [2, 0, 1]]\n",
    "with h5py.File(h5_path, 'r') as hf:\n",
    "    keys = list(hf['image'])\n",
    "    sample_img = hf['image'][keys[0]][:]\n",
    "    sample_img = np.transpose(sample_img, axes=transpose[select_axis])\n",
    "    shape = np.array(sample_img.shape)"
   ]
  },
  {
   "cell_type": "code",
   "execution_count": 143,
   "metadata": {
    "tags": []
   },
   "outputs": [
    {
     "output_type": "stream",
     "name": "stdout",
     "text": "keys 10692 - selected axis 2\nshape (transposed) [155 155 185]\n"
    }
   ],
   "source": [
    "print(f'keys {len(keys)} - selected axis {select_axis}\\nshape (transposed) {shape}')"
   ]
  },
  {
   "cell_type": "code",
   "execution_count": 144,
   "metadata": {},
   "outputs": [
    {
     "output_type": "execute_result",
     "data": {
      "text/plain": "            key  slice  age  sex\n0        100000      0   52    1\n1        100000      1   52    1\n2        100000      2   52    1\n3        100000      3   52    1\n4        100000      4   52    1\n...         ...    ...  ...  ...\n1657255  111680    150   65    2\n1657256  111680    151   65    2\n1657257  111680    152   65    2\n1657258  111680    153   65    2\n1657259  111680    154   65    2\n\n[1657260 rows x 4 columns]",
      "text/html": "<div>\n<style scoped>\n    .dataframe tbody tr th:only-of-type {\n        vertical-align: middle;\n    }\n\n    .dataframe tbody tr th {\n        vertical-align: top;\n    }\n\n    .dataframe thead th {\n        text-align: right;\n    }\n</style>\n<table border=\"1\" class=\"dataframe\">\n  <thead>\n    <tr style=\"text-align: right;\">\n      <th></th>\n      <th>key</th>\n      <th>slice</th>\n      <th>age</th>\n      <th>sex</th>\n    </tr>\n  </thead>\n  <tbody>\n    <tr>\n      <th>0</th>\n      <td>100000</td>\n      <td>0</td>\n      <td>52</td>\n      <td>1</td>\n    </tr>\n    <tr>\n      <th>1</th>\n      <td>100000</td>\n      <td>1</td>\n      <td>52</td>\n      <td>1</td>\n    </tr>\n    <tr>\n      <th>2</th>\n      <td>100000</td>\n      <td>2</td>\n      <td>52</td>\n      <td>1</td>\n    </tr>\n    <tr>\n      <th>3</th>\n      <td>100000</td>\n      <td>3</td>\n      <td>52</td>\n      <td>1</td>\n    </tr>\n    <tr>\n      <th>4</th>\n      <td>100000</td>\n      <td>4</td>\n      <td>52</td>\n      <td>1</td>\n    </tr>\n    <tr>\n      <th>...</th>\n      <td>...</td>\n      <td>...</td>\n      <td>...</td>\n      <td>...</td>\n    </tr>\n    <tr>\n      <th>1657255</th>\n      <td>111680</td>\n      <td>150</td>\n      <td>65</td>\n      <td>2</td>\n    </tr>\n    <tr>\n      <th>1657256</th>\n      <td>111680</td>\n      <td>151</td>\n      <td>65</td>\n      <td>2</td>\n    </tr>\n    <tr>\n      <th>1657257</th>\n      <td>111680</td>\n      <td>152</td>\n      <td>65</td>\n      <td>2</td>\n    </tr>\n    <tr>\n      <th>1657258</th>\n      <td>111680</td>\n      <td>153</td>\n      <td>65</td>\n      <td>2</td>\n    </tr>\n    <tr>\n      <th>1657259</th>\n      <td>111680</td>\n      <td>154</td>\n      <td>65</td>\n      <td>2</td>\n    </tr>\n  </tbody>\n</table>\n<p>1657260 rows × 4 columns</p>\n</div>"
     },
     "metadata": {},
     "execution_count": 144
    }
   ],
   "source": [
    "# create dataframe\n",
    "indices = np.arange(shape[0]*len(keys))\n",
    "subject_keys = np.array(keys)[indices//shape[0]]\n",
    "df = pd.DataFrame({'key': subject_keys,\n",
    "                   'slice': indices%shape[0],\n",
    "                   'age': info_df.loc[subject_keys]['age'].to_numpy().astype(np.uint8),\n",
    "                   'sex': info_df.loc[subject_keys]['sex'].to_numpy().astype(np.uint8)},\n",
    "                   index=indices)\n",
    "df['key'] = df['key'].astype('string')\n",
    "df"
   ]
  },
  {
   "cell_type": "code",
   "execution_count": 145,
   "metadata": {},
   "outputs": [],
   "source": [
    "# save to feather\n",
    "df.to_feather(data/f'interim/t1_pp_{select_res}_slices_ax{select_axis}.feather')"
   ]
  }
 ],
 "metadata": {
  "language_info": {
   "codemirror_mode": {
    "name": "ipython",
    "version": 3
   },
   "file_extension": ".py",
   "mimetype": "text/x-python",
   "name": "python",
   "nbconvert_exporter": "python",
   "pygments_lexer": "ipython3",
   "version": "3.7.4-final"
  },
  "orig_nbformat": 2,
  "kernelspec": {
   "name": "python_defaultSpec_1594542208245",
   "display_name": "Python 3.7.4 64-bit ('brainage': venv)"
  }
 },
 "nbformat": 4,
 "nbformat_minor": 2
}