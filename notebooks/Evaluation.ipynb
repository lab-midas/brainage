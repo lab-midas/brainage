{
 "cells": [
  {
   "cell_type": "code",
   "execution_count": 351,
   "metadata": {},
   "outputs": [],
   "source": [
    "from __future__ import absolute_import, division, print_function, unicode_literals\n",
    "\n",
    "import os\n",
    "import sys\n",
    "sys.path.insert(0, '/mnt/home/raheppt1/projects/age_prediction')\n",
    "import numpy as np\n",
    "import datetime\n",
    "from pathlib import Path\n",
    "import matplotlib.pyplot as plt\n",
    "\n",
    "# tensorflow-gpu 2.0.0\n",
    "import tensorflow as tf\n",
    "from tensorflow import keras\n",
    "from tensorflow.keras.models import Sequential\n",
    "from tensorflow.keras.layers import Dense, Flatten, Conv3D, MaxPooling3D, Dropout, Conv2D\n",
    "from tensorflow.keras.layers import BatchNormalization, ReLU\n",
    "from tensorflow.keras.optimizers import *\n",
    "import tensorflow_probability as tfp\n",
    "from scipy.ndimage import gaussian_filter\n",
    "\n",
    "from dataset import AgeData\n",
    "from misc import utils\n",
    "from misc.utils import init_gpu\n",
    "from models.models3d import age_regression"
   ]
  },
  {
   "cell_type": "code",
   "execution_count": 352,
   "metadata": {},
   "outputs": [
    {
     "name": "stdout",
     "output_type": "stream",
     "text": [
      "2.0.0\n",
      "1 Physical GPUs, 1 Logical GPUs\n"
     ]
    }
   ],
   "source": [
    "# Initialize GPU \n",
    "init_gpu(gpu_device='0')"
   ]
  },
  {
   "cell_type": "code",
   "execution_count": 367,
   "metadata": {
    "scrolled": true
   },
   "outputs": [
    {
     "name": "stdout",
     "output_type": "stream",
     "text": [
      "loaded 416 ids\n",
      "loaded 100 ids\n",
      "416 100\n"
     ]
    }
   ],
   "source": [
    "# Parameters\n",
    "batch_size = 16\n",
    "mc_samples = 50\n",
    "# Switch between test and validation set\n",
    "select_testset = True\n",
    "select_dataset = 'IXI'\n",
    "select_group = 'AD'\n",
    "select_cv_split = 0\n",
    "config = {\n",
    "        # General parameters\n",
    "        'image_size': [100, 120, 100],\n",
    "        'image_spacing': [1.5, 1.5, 1.5],\n",
    "    }\n",
    "\n",
    "image_size = config['image_size']\n",
    "image_spacing = config['image_spacing']\n",
    "\n",
    "if select_dataset == 'IXI':\n",
    "    # IXI\n",
    "    config['base_folder'] = '/mnt/share/raheppt1/project_data/brain/IXI/IXI_T1/PP_IXIT1'\n",
    "    config['file_prefix'] = 'fcmnorm_brain_mni_IXI'\n",
    "    config['file_suffix'] = '_T1_restore'\n",
    "    config['file_ext'] = '.nii.gz'\n",
    "    config['path_training_csv'] = f'/mnt/share/raheppt1/project_data/brain/IXI/IXI_T1/config/IXI_T1_train_split{select_cv_split}.csv'\n",
    "    config['path_validation_csv'] = f'/mnt/share/raheppt1/project_data/brain/IXI/IXI_T1/config/IXI_T1_val_split{select_cv_split}.csv'\n",
    "    config['path_test_csv'] = '/mnt/share/raheppt1/project_data/brain/IXI/IXI_T1/config/IXI_T1_test.csv'\n",
    "    config['path_info_csv'] = '/mnt/share/raheppt1/project_data/brain/IXI/IXI_T1/config/IXI_T1_age.csv'\n",
    "elif select_dataset == 'ADNI':\n",
    "    # ADNI\n",
    "    config['base_folder'] = '/mnt/share/raheppt1/project_data/brain/ADNI/ADNI_T1'\n",
    "    config['file_prefix'] = 'fcmnorm_brain_mni_ADNI_'\n",
    "    config['file_suffix'] = '_T1'\n",
    "    config['file_ext'] = '.nii.gz'\n",
    "    config['path_training_csv'] = f'/mnt/share/raheppt1/project_data/brain/ADNI/config/GR_{select_group}/{select_group}_ADNI_T1_train_split{select_cv_split}.csv'\n",
    "    config['path_validation_csv'] = f'/mnt/share/raheppt1/project_data/brain/ADNI/config/GR_{select_group}/{select_group}_ADNI_T1_val_split{select_cv_split}.csv'\n",
    "    config['path_test_csv'] = f'/mnt/share/raheppt1/project_data/brain/ADNI/config/GR_{select_group}/{select_group}_ADNI_T1_test_complete.csv'\n",
    "    config['path_info_csv'] = '/mnt/share/raheppt1/project_data/brain/ADNI/config/ADNI_age_only.csv'\n",
    "            \n",
    "# Load training and test data.\n",
    "age_data = AgeData(config,\n",
    "                   shuffle_training_images=True,\n",
    "                   save_debug_images=False,\n",
    "                   select_testset=select_testset)\n",
    "dataset_train = age_data.dataset_train()\n",
    "train_samples = dataset_train.num_entries()\n",
    "dataset_val = age_data.dataset_val()\n",
    "val_samples = dataset_val.num_entries()\n",
    "print(train_samples, val_samples)\n",
    "\n",
    "def disturb(image):\n",
    "    affine = np.diag((1, 2, 3, 1))\n",
    "    affine[:3, 3] = 40, 50, 60\n",
    "    sample = {\n",
    "        't1': dict(\n",
    "            #data=np.random.rand(*shape),\n",
    "            data=image,\n",
    "            affine=affine,\n",
    "            type=INTENSITY,\n",
    "            stem='t1',\n",
    "        )\n",
    "    }\n",
    "\n",
    "    transform = torchio.RandomMotion(\n",
    "        proportion_to_augment=1.0,\n",
    "        seed=42,)\n",
    "    transformed = transform(sample)\n",
    "    return transformed['t1']['data'].numpy()\n",
    "    \n",
    "# Define training and validation datasets from generators.\n",
    "def train_gen():\n",
    "    data = dataset_train\n",
    "    i = 0\n",
    "    while i < data.num_entries():\n",
    "        sample = data.get_next()\n",
    "        # DHWC tensor format\n",
    "        image = sample['generators']['image'].transpose([1, 2, 3, 0])\n",
    "        image = image.astype('float32')\n",
    "        age = sample['generators']['age']\n",
    "        yield image, age\n",
    "        i += 1\n",
    "\n",
    "def val_gen():\n",
    "    data = dataset_val\n",
    "    i = 0\n",
    "    while i < data.num_entries():\n",
    "        sample = data.get_next()\n",
    "        image = sample['generators']['image'].transpose([1, 2, 3, 0])\n",
    "        #image = gaussian_filter(sample['generators']['image'].transpose([1, 2, 3, 0]), sigma=3.0)# (sample['generators']['image']).transpose([1, 2, 3, 0])\n",
    "        image = np.random.rand(*image.shape)\n",
    "        image = image.astype('float32')\n",
    "        age = sample['generators']['age']\n",
    "        yield image, age\n",
    "        i += 1\n",
    "\n",
    "ds_train = tf.data.Dataset.from_generator(train_gen,\n",
    "                                          output_types=(tf.float32, tf.float32),\n",
    "                                          output_shapes=(tf.TensorShape((None, None, None, None)),\n",
    "                                                         tf.TensorShape((1, ))))\n",
    "ds_train = ds_train.batch(batch_size=batch_size)\n",
    "\n",
    "ds_val = tf.data.Dataset.from_generator(val_gen,\n",
    "                                        output_types=(tf.float32, tf.float32),\n",
    "                                        output_shapes=(tf.TensorShape((None, None, None, None)),\n",
    "                                                       tf.TensorShape((1, ))))\n",
    "ds_val = ds_val.batch(batch_size=batch_size)\n",
    "\n",
    "sample =next(iter(ds_val))"
   ]
  },
  {
   "cell_type": "code",
   "execution_count": 368,
   "metadata": {
    "scrolled": true
   },
   "outputs": [
    {
     "data": {
      "text/plain": [
       "<tensorflow.python.training.tracking.util.CheckpointLoadStatus at 0x7efd6bcd1090>"
      ]
     },
     "execution_count": 368,
     "metadata": {},
     "output_type": "execute_result"
    }
   ],
   "source": [
    "prior_scale = 1.0\n",
    "def prior(dtype, shape, name, trainable, add_variable_fn):\n",
    "    loc = tf.zeros(shape)\n",
    "    scale = tf.ones(shape) * prior_scale\n",
    "    prior_dist = tfp.distributions.Normal(loc=loc, scale=scale)\n",
    "    prior_dist = tfp.distributions.Independent(prior_dist,\n",
    "                                               reinterpreted_batch_ndims=tf.size(prior_dist.batch_shape_tensor()))\n",
    "    return prior_dist\n",
    "\n",
    "bayesian_model = age_regression.build_bayesian_model(image_size + [1],\n",
    "                                                     prior=prior,\n",
    "                                                     flipout=False,\n",
    "                                                     outputs=1)\n",
    "\n",
    "checkpoint_path = Path('/mnt/share/raheppt1/tf_models/age/keras/new_bayesian_06/')\n",
    "latest = tf.train.latest_checkpoint(checkpoint_path)\n",
    "bayesian_model.load_weights(str(latest))"
   ]
  },
  {
   "cell_type": "code",
   "execution_count": 369,
   "metadata": {
    "scrolled": true
   },
   "outputs": [
    {
     "name": "stdout",
     "output_type": "stream",
     "text": [
      "12.78154430389404\n",
      "tf.Tensor(16.406235, shape=(), dtype=float32)\n",
      "tf.Tensor(334.48737, shape=(), dtype=float32)\n",
      "10.311293411254882\n",
      "tf.Tensor(13.743126, shape=(), dtype=float32)\n",
      "tf.Tensor(272.08044, shape=(), dtype=float32)\n",
      "10.319460034370422\n",
      "tf.Tensor(12.648846, shape=(), dtype=float32)\n",
      "tf.Tensor(234.02898, shape=(), dtype=float32)\n",
      "12.16053602695465\n",
      "tf.Tensor(14.15053, shape=(), dtype=float32)\n",
      "tf.Tensor(256.94592, shape=(), dtype=float32)\n",
      "12.270982241630552\n",
      "tf.Tensor(15.575453, shape=(), dtype=float32)\n",
      "tf.Tensor(352.22006, shape=(), dtype=float32)\n",
      "10.604956531524659\n",
      "tf.Tensor(15.862093, shape=(), dtype=float32)\n",
      "tf.Tensor(310.33636, shape=(), dtype=float32)\n",
      "9.651609516143797\n",
      "tf.Tensor(12.506779, shape=(), dtype=float32)\n",
      "tf.Tensor(290.49173, shape=(), dtype=float32)\n"
     ]
    }
   ],
   "source": [
    "def mean_mae(y_true, y_pred):\n",
    "    return tf.keras.losses.MAE(y_true[:, 0], y_pred[:, 0])\n",
    "\n",
    "def mean_mse(y_true, y_pred):\n",
    "    return tf.keras.losses.MSE(y_true[:, 0], y_pred[:, 0])\n",
    "\n",
    "preds_list = []\n",
    "preds_std_list = []\n",
    "labels_list = []\n",
    "\n",
    "for test_images, test_labels in ds_val:\n",
    "    preds = list()\n",
    "    # Multiple forward runs\n",
    "    for i in range(mc_samples):\n",
    "        preds.append(bayesian_model(test_images, training=False))\n",
    "    preds = tf.stack(preds, axis=0).numpy()\n",
    "    preds_std = np.quantile(preds, 0.7, axis=0)- np.quantile(preds, 0.3, axis=0)\n",
    "    preds = np.median(preds, axis=0, keepdims=False)\n",
    "    preds_list.append(preds)\n",
    "    preds_std_list.append(preds_std)\n",
    "    labels_list.append(test_labels)\n",
    "    print(np.mean(preds_std))\n",
    "    print(mean_mae(test_labels, preds))\n",
    "    print(mean_mse(test_labels, preds))\n",
    "all_labels = tf.concat(labels_list, axis=0)\n",
    "all_preds = tf.concat(preds_list, axis=0)\n",
    "all_preds_std = tf.concat(preds_std_list, axis=0)"
   ]
  },
  {
   "cell_type": "code",
   "execution_count": 364,
   "metadata": {},
   "outputs": [
    {
     "data": {
      "text/plain": [
       "array([[39.17590714, 48.17062378,  7.30770988],\n",
       "       [41.88911819, 41.30696487,  6.80717278],\n",
       "       [27.01437378, 40.35113907,  4.88771133],\n",
       "       [68.13415527, 62.9789505 ,  6.03771629],\n",
       "       [72.30664062, 61.32040405,  7.43323059],\n",
       "       [65.40999603, 66.64440918,  6.69139862],\n",
       "       [59.78371048, 61.29368973,  3.57536774],\n",
       "       [28.87063599, 34.41512299,  5.21197987],\n",
       "       [65.09513855, 67.2101593 ,  7.2421051 ],\n",
       "       [30.18206787, 32.86868286,  4.67473183],\n",
       "       [23.84667969, 44.95330811,  6.17900009],\n",
       "       [63.39219666, 56.44483948,  5.06939812],\n",
       "       [42.22039795, 33.95947266,  4.77729263],\n",
       "       [63.81656265, 49.16946411,  5.19739876],\n",
       "       [24.34223175, 24.57886124,  3.21352425],\n",
       "       [60.0739212 , 55.57462311,  4.81354218],\n",
       "       [46.22039795, 38.53142548,  5.16861382],\n",
       "       [72.59411621, 63.74967575,  5.32068596],\n",
       "       [41.13073349, 45.76815033,  5.07033272],\n",
       "       [54.21492004, 52.42808151,  5.07810593]])"
      ]
     },
     "execution_count": 364,
     "metadata": {},
     "output_type": "execute_result"
    }
   ],
   "source": [
    "np.concatenate((all_labels[:20], all_preds[:20],all_preds_std[:20] ), axis=1)"
   ]
  },
  {
   "cell_type": "code",
   "execution_count": 365,
   "metadata": {},
   "outputs": [
    {
     "data": {
      "text/plain": [
       "<tf.Tensor: id=9096048, shape=(), dtype=float32, numpy=6.7315764>"
      ]
     },
     "execution_count": 365,
     "metadata": {},
     "output_type": "execute_result"
    }
   ],
   "source": [
    "mean_mae(all_preds, all_labels)"
   ]
  },
  {
   "cell_type": "code",
   "execution_count": 366,
   "metadata": {},
   "outputs": [
    {
     "data": {
      "text/plain": [
       "5.075205966949461"
      ]
     },
     "execution_count": 366,
     "metadata": {},
     "output_type": "execute_result"
    }
   ],
   "source": [
    "np.mean(all_preds_std)"
   ]
  },
  {
   "cell_type": "code",
   "execution_count": 350,
   "metadata": {},
   "outputs": [
    {
     "data": {
      "text/plain": [
       "<matplotlib.collections.PathCollection at 0x7efdaa18d090>"
      ]
     },
     "execution_count": 350,
     "metadata": {},
     "output_type": "execute_result"
    },
    {
     "data": {
      "image/png": "[encoded data removed]",
      "text/plain": [
       "<Figure size 432x288 with 1 Axes>"
      ]
     },
     "metadata": {
      "needs_background": "light"
     },
     "output_type": "display_data"
    }
   ],
   "source": [
    "plt.scatter(all_labels, all_preds)"
   ]
  },
  {
   "cell_type": "code",
   "execution_count": 215,
   "metadata": {},
   "outputs": [
    {
     "data": {
      "text/plain": [
       "<matplotlib.collections.PathCollection at 0x7eff636a81d0>"
      ]
     },
     "execution_count": 215,
     "metadata": {},
     "output_type": "execute_result"
    },
    {
     "data": {
      "image/png": "[encoded data removed]",
      "text/plain": [
       "<Figure size 432x288 with 1 Axes>"
      ]
     },
     "metadata": {
      "needs_background": "light"
     },
     "output_type": "display_data"
    }
   ],
   "source": [
    "plt.scatter(all_labels, all_preds_std)"
   ]
  },
  {
   "cell_type": "code",
   "execution_count": 170,
   "metadata": {},
   "outputs": [
    {
     "data": {
      "text/plain": [
       "<matplotlib.collections.PathCollection at 0x7eff606a9a10>"
      ]
     },
     "execution_count": 170,
     "metadata": {},
     "output_type": "execute_result"
    },
    {
     "data": {
      "image/png": "[encoded data removed]",
      "text/plain": [
       "<Figure size 432x288 with 1 Axes>"
      ]
     },
     "metadata": {
      "needs_background": "light"
     },
     "output_type": "display_data"
    }
   ],
   "source": [
    "plt.scatter(all_labels, all_preds_std)"
   ]
  },
  {
   "cell_type": "code",
   "execution_count": 16,
   "metadata": {},
   "outputs": [],
   "source": [
    "import torchio\n",
    "from torchio import INTENSITY, LABEL, DATA\n",
    "import numpy as np"
   ]
  },
  {
   "cell_type": "code",
   "execution_count": 149,
   "metadata": {},
   "outputs": [
    {
     "name": "stdout",
     "output_type": "stream",
     "text": [
      "(16, 100, 120, 100, 1)\n"
     ]
    },
    {
     "data": {
      "image/png": "[encoded data removed]",
      "text/plain": [
       "<Figure size 432x288 with 1 Axes>"
      ]
     },
     "metadata": {
      "needs_background": "light"
     },
     "output_type": "display_data"
    },
    {
     "name": "stdout",
     "output_type": "stream",
     "text": [
      "torch.Size([1, 100, 120, 100])\n"
     ]
    },
    {
     "data": {
      "text/plain": [
       "<matplotlib.image.AxesImage at 0x7eff60649f10>"
      ]
     },
     "execution_count": 149,
     "metadata": {},
     "output_type": "execute_result"
    },
    {
     "data": {
      "image/png": "[encoded data removed]",
      "text/plain": [
       "<Figure size 432x288 with 1 Axes>"
      ]
     },
     "metadata": {
      "needs_background": "light"
     },
     "output_type": "display_data"
    }
   ],
   "source": [
    "for test_images, test_labels in ds_val:\n",
    "    print(test_images.shape)\n",
    "    plt.imshow(test_images[0, :, 50, :,0], cmap='gray')\n",
    "    plt.show()\n",
    "    \n",
    "    shape = 1, 10, 20, 30\n",
    "    affine = np.diag((1, 2, 3, 1))\n",
    "    affine[:3, 3] = 40, 50, 60\n",
    "    sample = {\n",
    "        't1': dict(\n",
    "            #data=np.random.rand(*shape),\n",
    "            data=test_images.numpy(),\n",
    "            affine=affine,\n",
    "            type=INTENSITY,\n",
    "            stem='t1',\n",
    "        )\n",
    "    }\n",
    "\n",
    "    transform = torchio.RandomMotion(\n",
    "        proportion_to_augment=1.0,\n",
    "        seed=42,)\n",
    "    transformed = transform(sample)\n",
    "    print(transformed['t1']['data'].shape)\n",
    "    break\n",
    "from scipy.ndimage import gaussian_filter\n",
    "filtered = gaussian_filter(test_images[0,...].numpy(), sigma=5.0)\n",
    "\n",
    "#transformed['t2'][DATA] = transformed['t2'][DATA] - 0.5\n",
    "#plt.imshow(transformed['t1']['data'][0, :, 50, :], cmap='gray')\n",
    "plt.imshow(filtered[:, 50, :, 0], cmap='gray')"
   ]
  },
  {
   "cell_type": "code",
   "execution_count": null,
   "metadata": {},
   "outputs": [],
   "source": []
  },
  {
   "cell_type": "code",
   "execution_count": null,
   "metadata": {},
   "outputs": [],
   "source": []
  }
 ],
 "metadata": {
  "kernelspec": {
   "display_name": "Python 3",
   "language": "python",
   "name": "python3"
  },
  "language_info": {
   "codemirror_mode": {
    "name": "ipython",
    "version": 3
   },
   "file_extension": ".py",
   "mimetype": "text/x-python",
   "name": "python",
   "nbconvert_exporter": "python",
   "pygments_lexer": "ipython3",
   "version": "3.7.4"
  }
 },
 "nbformat": 4,
 "nbformat_minor": 4
}
