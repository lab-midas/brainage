{
 "cells": [
  {
   "cell_type": "code",
   "execution_count": 1,
   "metadata": {},
   "outputs": [],
   "source": [
    "%load_ext autoreload\n",
    "%autoreload 2"
   ]
  },
  {
   "cell_type": "code",
   "execution_count": 4,
   "metadata": {},
   "outputs": [],
   "source": [
    "# Load .env environment variables\n",
    "from dotenv import load_dotenv\n",
    "load_dotenv()\n",
    "\n",
    "import os\n",
    "import pandas as pd\n",
    "from pathlib import Path\n",
    "import matplotlib.pyplot as plt\n",
    "import numpy as np"
   ]
  },
  {
   "cell_type": "markdown",
   "metadata": {},
   "source": [
    "###  IXI dataset"
   ]
  },
  {
   "cell_type": "code",
   "execution_count": 5,
   "metadata": {},
   "outputs": [
    {
     "data": {
      "image/png": "[encoded data removed]",
      "text/plain": [
       "<Figure size 432x288 with 1 Axes>"
      ]
     },
     "metadata": {
      "needs_background": "light"
     },
     "output_type": "display_data"
    }
   ],
   "source": [
    "# load csv files with subject id and age\n",
    "# environment variable DATA_DIR (defined in .env) leads to the data directory\n",
    "train_csv = Path(os.environ.get('DATA_DIR')).joinpath('IXI/IXI_T1', 'config', 'IXI_T1_train_split0.csv')\n",
    "val_csv = Path(os.environ.get('DATA_DIR')).joinpath('IXI/IXI_T1', 'config', 'IXI_T1_val_split0.csv')\n",
    "test_csv  = Path(os.environ.get('DATA_DIR')).joinpath('IXI/IXI_T1', 'config', 'IXI_T1_test.csv')\n",
    "# create dataframes\n",
    "train_df = pd.read_csv(str(train_csv), header=None, names=['id', 'age'])\n",
    "val_df = pd.read_csv(str(val_csv), header=None, names=['id', 'age'])\n",
    "test_df = pd.read_csv(str(test_csv), header=None, names=['id', 'age'])\n",
    "# append validation to train data\n",
    "train_df = train_df.append(val_df)\n",
    "\n",
    "train_df['age'].hist(bins=10)\n",
    "test_df['age'].hist(bins=10)\n",
    "plt.title('Age distribution - IXI')\n",
    "plt.xlabel('chronological age')\n",
    "plt.ylabel('count')\n",
    "plt.show()"
   ]
  },
  {
   "cell_type": "code",
   "execution_count": 11,
   "metadata": {},
   "outputs": [
    {
     "name": "stdout",
     "output_type": "stream",
     "text": [
      "21.38261464750171 86.3189596167009\n"
     ]
    },
    {
     "data": {
      "text/plain": [
       "id     463\n",
       "age    463\n",
       "dtype: int64"
      ]
     },
     "execution_count": 11,
     "metadata": {},
     "output_type": "execute_result"
    }
   ],
   "source": [
    "print(test_df['age'].min(), test_df['age'].max())\n",
    "train_df.count()"
   ]
  },
  {
   "cell_type": "code",
   "execution_count": 6,
   "metadata": {},
   "outputs": [
    {
     "name": "stdout",
     "output_type": "stream",
     "text": [
      "age test_count diff_count train_count\n",
      "10.0 0 0 0\n",
      "19.0 7 60 67\n",
      "28.0 22 57 79\n",
      "37.0 18 48 66\n",
      "46.0 10 51 61\n",
      "55.0 18 81 99\n",
      "64.0 19 46 65\n",
      "73.0 5 17 22\n",
      "82.0 1 3 4\n",
      "91.0 0 0 0\n"
     ]
    }
   ],
   "source": [
    "train_count, train_division = np.histogram(train_df['age'], bins=10, range=(10,100))\n",
    "test_count, test_division = np.histogram(test_df['age'], bins=10, range=(10,100))\n",
    "print('age','test_count', 'diff_count', 'train_count')\n",
    "for k in range(train_count.shape[0]):\n",
    "    print( train_division[k], test_count[k], train_count[k] - test_count[k], train_count[k])"
   ]
  },
  {
   "cell_type": "markdown",
   "metadata": {},
   "source": [
    "### ADNI dataset"
   ]
  },
  {
   "cell_type": "code",
   "execution_count": 12,
   "metadata": {},
   "outputs": [
    {
     "data": {
      "image/png": "[encoded data removed]",
      "text/plain": [
       "<Figure size 432x288 with 1 Axes>"
      ]
     },
     "metadata": {
      "needs_background": "light"
     },
     "output_type": "display_data"
    },
    {
     "data": {
      "image/png": "[encoded data removed]",
      "text/plain": [
       "<Figure size 432x288 with 1 Axes>"
      ]
     },
     "metadata": {
      "needs_background": "light"
     },
     "output_type": "display_data"
    }
   ],
   "source": [
    "# load csv files with subject id and age\n",
    "# environment variable DATA_DIR (defined in .env) leads to the data directory\n",
    "train_csv = Path(os.environ.get('DATA_DIR')).joinpath('ADNI', 'config', 'GR_NL', 'NL_ADNI_T1_train_split0.csv')\n",
    "val_csv   = Path(os.environ.get('DATA_DIR')).joinpath('ADNI', 'config', 'GR_NL', 'NL_ADNI_T1_val_split0.csv')\n",
    "test_csv  = Path(os.environ.get('DATA_DIR')).joinpath('ADNI', 'config', 'GR_NL', 'NL_ADNI_T1_test_split.csv')\n",
    "# create dataframes\n",
    "nl_train_df = pd.read_csv(str(train_csv), header=None, names=['age', 'path'])\n",
    "nl_val_df = pd.read_csv(str(val_csv), header=None, names=['age', 'path'])\n",
    "nl_test_df = pd.read_csv(str(test_csv), header=None, names=['age', 'path'])\n",
    "# append validation to train data\n",
    "nl_train_df = nl_train_df.append(nl_val_df)\n",
    "\n",
    "# load csv files with subject id and age\n",
    "# environment variable DATA_DIR (defined in .env) leads to the data directory\n",
    "train_csv = Path(os.environ.get('DATA_DIR')).joinpath('ADNI', 'config', 'GR_AD', 'AD_ADNI_T1_train_split0.csv')\n",
    "val_csv   = Path(os.environ.get('DATA_DIR')).joinpath('ADNI', 'config', 'GR_AD', 'AD_ADNI_T1_val_split0.csv')\n",
    "test_csv  = Path(os.environ.get('DATA_DIR')).joinpath('ADNI', 'config', 'GR_AD', 'AD_ADNI_T1_test_split.csv')\n",
    "# create dataframes\n",
    "ad_train_df = pd.read_csv(str(train_csv), header=None, names=['age', 'path'])\n",
    "ad_val_df = pd.read_csv(str(val_csv), header=None, names=['age', 'path'])\n",
    "ad_test_df = pd.read_csv(str(test_csv), header=None, names=['age', 'path'])\n",
    "# append validation to train data\n",
    "ad_train_df = ad_train_df.append(ad_val_df)\n",
    "\n",
    "nl_train_df['age'].hist(bins=5)\n",
    "nl_test_df['age'].hist(bins=5)\n",
    "plt.title('Age distribution - ADNI/NL')\n",
    "plt.xlabel('chronological age')\n",
    "plt.ylabel('count')\n",
    "plt.show()\n",
    "\n",
    "ad_train_df['age'].hist(bins=5)\n",
    "ad_test_df['age'].hist(bins=5)\n",
    "plt.title('Age distribution - ADNI/AD')\n",
    "plt.xlabel('chronological age')\n",
    "plt.ylabel('count')\n",
    "plt.show()"
   ]
  },
  {
   "cell_type": "code",
   "execution_count": 18,
   "metadata": {},
   "outputs": [
    {
     "name": "stdout",
     "output_type": "stream",
     "text": [
      "66.0 91.0\n",
      "60.0 94.0\n",
      "58.0 91.0\n",
      "58.0 91.0\n"
     ]
    },
    {
     "data": {
      "text/plain": [
       "age     340\n",
       "path    340\n",
       "dtype: int64"
      ]
     },
     "execution_count": 18,
     "metadata": {},
     "output_type": "execute_result"
    }
   ],
   "source": [
    "print(nl_test_df['age'].min(), nl_test_df['age'].max())\n",
    "print(nl_train_df['age'].min(), nl_train_df['age'].max())\n",
    "print(ad_test_df['age'].min(), ad_test_df['age'].max())\n",
    "print(ad_train_df['age'].min(), ad_train_df['age'].max())\n",
    "ad_train_df.count()"
   ]
  },
  {
   "cell_type": "code",
   "execution_count": 86,
   "metadata": {},
   "outputs": [
    {
     "name": "stdout",
     "output_type": "stream",
     "text": [
      "age test_count diff_count train_count\n",
      "50.0 0 0 0\n",
      "55.0 2 10 12\n",
      "60.0 2 8 10\n",
      "65.0 8 32 40\n",
      "70.0 23 52 75\n",
      "75.0 23 61 84\n",
      "80.0 26 35 61\n",
      "85.0 13 38 51\n",
      "90.0 3 4 7\n",
      "95.0 0 0 0\n"
     ]
    }
   ],
   "source": [
    "train_count, train_division = np.histogram(ad_train_df['age'], bins=10, range=(50,100))\n",
    "test_count, test_division = np.histogram(ad_test_df['age'], bins=10, range=(50,100))\n",
    "print('age','test_count', 'diff_count', 'train_count')\n",
    "for k in range(train_count.shape[0]):\n",
    "    print( train_division[k], test_count[k], train_count[k] - test_count[k], train_count[k])"
   ]
  },
  {
   "cell_type": "code",
   "execution_count": 87,
   "metadata": {},
   "outputs": [
    {
     "name": "stdout",
     "output_type": "stream",
     "text": [
      "age test_count diff_count train_count\n",
      "50.0 0 0 0\n",
      "55.0 0 0 0\n",
      "60.0 0 23 23\n",
      "65.0 3 17 20\n",
      "70.0 23 144 167\n",
      "75.0 38 205 243\n",
      "80.0 26 145 171\n",
      "85.0 9 60 69\n",
      "90.0 1 10 11\n",
      "95.0 0 0 0\n"
     ]
    }
   ],
   "source": [
    "train_count, train_division = np.histogram(nl_train_df['age'], bins=10, range=(50,100))\n",
    "test_count, test_division = np.histogram(nl_test_df['age'], bins=10, range=(50,100))\n",
    "print('age','test_count', 'diff_count', 'train_count')\n",
    "for k in range(train_count.shape[0]):\n",
    "    print( train_division[k], test_count[k], train_count[k] - test_count[k], train_count[k])"
   ]
  },
  {
   "cell_type": "code",
   "execution_count": null,
   "metadata": {},
   "outputs": [],
   "source": []
  }
 ],
 "metadata": {
  "kernelspec": {
   "display_name": "Python 3",
   "language": "python",
   "name": "python3"
  },
  "language_info": {
   "codemirror_mode": {
    "name": "ipython",
    "version": 3
   },
   "file_extension": ".py",
   "mimetype": "text/x-python",
   "name": "python",
   "nbconvert_exporter": "python",
   "pygments_lexer": "ipython3",
   "version": "3.7.4"
  }
 },
 "nbformat": 4,
 "nbformat_minor": 4
}
