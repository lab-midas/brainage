{
 "cells": [
  {
   "cell_type": "code",
   "execution_count": 2,
   "metadata": {},
   "outputs": [
    {
     "ename": "ModuleNotFoundError",
     "evalue": "No module named 'dataset'",
     "output_type": "error",
     "traceback": [
      "\u001b[0;31m---------------------------------------------------------------------------\u001b[0m",
      "\u001b[0;31mModuleNotFoundError\u001b[0m                       Traceback (most recent call last)",
      "\u001b[0;32m<ipython-input-2-e86920b150a0>\u001b[0m in \u001b[0;36m<module>\u001b[0;34m\u001b[0m\n\u001b[1;32m     19\u001b[0m \u001b[0;32mfrom\u001b[0m \u001b[0mscipy\u001b[0m\u001b[0;34m.\u001b[0m\u001b[0mndimage\u001b[0m \u001b[0;32mimport\u001b[0m \u001b[0mgaussian_filter\u001b[0m\u001b[0;34m\u001b[0m\u001b[0;34m\u001b[0m\u001b[0m\n\u001b[1;32m     20\u001b[0m \u001b[0;34m\u001b[0m\u001b[0m\n\u001b[0;32m---> 21\u001b[0;31m \u001b[0;32mfrom\u001b[0m \u001b[0mdataset\u001b[0m \u001b[0;32mimport\u001b[0m \u001b[0mAgeData\u001b[0m\u001b[0;34m\u001b[0m\u001b[0;34m\u001b[0m\u001b[0m\n\u001b[0m\u001b[1;32m     22\u001b[0m \u001b[0;32mfrom\u001b[0m \u001b[0mmisc\u001b[0m \u001b[0;32mimport\u001b[0m \u001b[0mutils\u001b[0m\u001b[0;34m\u001b[0m\u001b[0;34m\u001b[0m\u001b[0m\n\u001b[1;32m     23\u001b[0m \u001b[0;32mfrom\u001b[0m \u001b[0mmisc\u001b[0m\u001b[0;34m.\u001b[0m\u001b[0mutils\u001b[0m \u001b[0;32mimport\u001b[0m \u001b[0minit_gpu\u001b[0m\u001b[0;34m\u001b[0m\u001b[0;34m\u001b[0m\u001b[0m\n",
      "\u001b[0;31mModuleNotFoundError\u001b[0m: No module named 'dataset'"
     ]
    }
   ],
   "source": [
    "from __future__ import absolute_import, division, print_function, unicode_literals\n",
    "\n",
    "import os\n",
    "import sys\n",
    "sys.path.insert(0, '/mnt/home/raheppt1/projects/age_prediction')\n",
    "import numpy as np\n",
    "import datetime\n",
    "from pathlib import Path\n",
    "import matplotlib.pyplot as plt\n",
    "\n",
    "# tensorflow-gpu 2.0.0\n",
    "import tensorflow as tf\n",
    "from tensorflow import keras\n",
    "from tensorflow.keras.models import Sequential\n",
    "from tensorflow.keras.layers import Dense, Flatten, Conv3D, MaxPooling3D, Dropout, Conv2D\n",
    "from tensorflow.keras.layers import BatchNormalization, ReLU\n",
    "from tensorflow.keras.optimizers import *\n",
    "import tensorflow_probability as tfp\n",
    "from scipy.ndimage import gaussian_filter\n",
    "\n",
    "from dataset import AgeData\n",
    "from misc import utils\n",
    "from misc.utils import init_gpu\n",
    "from models.models3d import age_regression"
   ]
  },
  {
   "cell_type": "code",
   "execution_count": null,
   "metadata": {},
   "outputs": [],
   "source": [
    "# Initialize GPU \n",
    "init_gpu(gpu_device='0')"
   ]
  },
  {
   "cell_type": "code",
   "execution_count": null,
   "metadata": {},
   "outputs": [],
   "source": [
    "batch_size = 16\n",
    "\n",
    "# Switch between test and validation set\n",
    "select_testset = True\n",
    "select_dataset = 'IXI'\n",
    "select_group = 'AD'\n",
    "select_cv_split = 0\n",
    "select_test_split = 'split'\n",
    "config = {\n",
    "        # General parameters\n",
    "        'image_size': [100, 120, 100],\n",
    "        'image_spacing': [1.5, 1.5, 1.5],\n",
    "    }\n",
    "\n",
    "image_size = config['image_size']\n",
    "image_spacing = config['image_spacing']\n",
    "\n",
    "if select_dataset == 'IXI':\n",
    "    # IXI\n",
    "    config['base_folder'] = '/mnt/share/raheppt1/project_data/brain/IXI/IXI_T1/PP_IXIT1'\n",
    "    config['file_prefix'] = 'fcmnorm_brain_mni_IXI'\n",
    "    config['file_suffix'] = '_T1_restore'\n",
    "    config['file_ext'] = '.nii.gz'\n",
    "    config['path_training_csv'] = f'/mnt/share/raheppt1/project_data/brain/IXI/IXI_T1/config/IXI_T1_train_split{select_cv_split}.csv'\n",
    "    config['path_validation_csv'] = f'/mnt/share/raheppt1/project_data/brain/IXI/IXI_T1/config/IXI_T1_val_split{select_cv_split}.csv'\n",
    "    config['path_test_csv'] = '/mnt/share/raheppt1/project_data/brain/IXI/IXI_T1/config/IXI_T1_test.csv'\n",
    "    config['path_info_csv'] = '/mnt/share/raheppt1/project_data/brain/IXI/IXI_T1/config/IXI_T1_age.csv'\n",
    "elif select_dataset == 'ADNI':\n",
    "    # ADNI\n",
    "    config['base_folder'] = '/mnt/share/raheppt1/project_data/brain/ADNI/ADNI_T1'\n",
    "    config['file_prefix'] = 'fcmnorm_brain_mni_ADNI_'\n",
    "    config['file_suffix'] = '_T1'\n",
    "    config['file_ext'] = '.nii.gz'\n",
    "    config['path_training_csv'] = f'/mnt/share/raheppt1/project_data/brain/ADNI/config/GR_{select_group}/{select_group}_ADNI_T1_train_split{select_cv_split}.csv'\n",
    "    config['path_validation_csv'] = f'/mnt/share/raheppt1/project_data/brain/ADNI/config/GR_{select_group}/{select_group}_ADNI_T1_val_split{select_cv_split}.csv'\n",
    "    config['path_test_csv'] = f'/mnt/share/raheppt1/project_data/brain/ADNI/config/GR_{select_group}/{select_group}_ADNI_T1_test_{select_test_split}.csv'\n",
    "    config['path_info_csv'] = '/mnt/share/raheppt1/project_data/brain/ADNI/config/ADNI_age_only.csv'\n",
    "\n",
    "def create_datasets(config, select_testset):\n",
    "    # Load training and test data.\n",
    "    age_data = AgeData(config,\n",
    "                       shuffle_training_images=True,\n",
    "                       save_debug_images=False,\n",
    "                       b_test=select_testset)\n",
    "    dataset_train = age_data.dataset_train()\n",
    "    train_samples = dataset_train.num_entries()\n",
    "    dataset_val = age_data.dataset_val()\n",
    "    val_samples = dataset_val.num_entries()\n",
    "\n",
    "    # Define training and validation datasets from generators.\n",
    "    def train_gen():\n",
    "        data = dataset_train\n",
    "        i = 0\n",
    "        while i < data.num_entries():\n",
    "            sample = data.get_next()\n",
    "            # DHWC tensor format\n",
    "            image = sample['generators']['image'].transpose([1, 2, 3, 0])\n",
    "            image = image.astype('float32')\n",
    "            age = sample['generators']['age']\n",
    "            yield image, age\n",
    "            i += 1\n",
    "\n",
    "    def val_gen():\n",
    "        data = dataset_val\n",
    "        i = 0\n",
    "        while i < data.num_entries():\n",
    "            sample = data.get_next()\n",
    "            image = sample['generators']['image'].transpose([1, 2, 3, 0])\n",
    "            #image = gaussian_filter(sample['generators']['image'].transpose([1, 2, 3, 0]), sigma=8.0)# (sample['generators']['image']).transpose([1, 2, 3, 0])\n",
    "            image = image.astype('float32')\n",
    "            age = sample['generators']['age']\n",
    "            yield image, age\n",
    "            i += 1\n",
    "\n",
    "    ds_train = tf.data.Dataset.from_generator(train_gen,\n",
    "                                              output_types=(tf.float32, tf.float32),\n",
    "                                              output_shapes=(tf.TensorShape((None, None, None, None)),\n",
    "                                                             tf.TensorShape((1, ))))\n",
    "    ds_train = ds_train.batch(batch_size=batch_size)\n",
    "\n",
    "    ds_val = tf.data.Dataset.from_generator(val_gen,\n",
    "                                            output_types=(tf.float32, tf.float32),\n",
    "                                            output_shapes=(tf.TensorShape((None, None, None, None)),\n",
    "                                                           tf.TensorShape((1, ))))\n",
    "    ds_val = ds_val.batch(batch_size=batch_size)\n",
    "    \n",
    "    return ds_train, ds_val\n",
    "\n",
    "ds_train, ds_val = create_datasets(config, select_testset)"
   ]
  },
  {
   "cell_type": "code",
   "execution_count": 121,
   "metadata": {},
   "outputs": [],
   "source": [
    "# Reload model (simple, quantile or aleatoric)\n",
    "simple_model = tf.saved_model.load('/mnt/share/raheppt1/tf_models/brainage/keras/new_quantile_01/model.tf/')"
   ]
  },
  {
   "cell_type": "code",
   "execution_count": 122,
   "metadata": {
    "scrolled": true
   },
   "outputs": [
    {
     "name": "stdout",
     "output_type": "stream",
     "text": [
      "mae 2.08 mse 9.00\n",
      "mae 2.34 mse 7.69\n",
      "mae 1.98 mse 6.55\n",
      "mae 2.99 mse 15.95\n",
      "mae 3.45 mse 27.15\n",
      "mae 2.52 mse 12.98\n",
      "mae 2.48 mse 13.40\n",
      "overall mae 2.56 mse 13.23\n"
     ]
    }
   ],
   "source": [
    "def mean_mae(y_true, y_pred):\n",
    "    return tf.keras.losses.MAE(y_true[:, 0], y_pred[:, 0])\n",
    "\n",
    "def mean_mse(y_true, y_pred):\n",
    "    return tf.keras.losses.MSE(y_true[:, 0], y_pred[:, 0])\n",
    "\n",
    "# Predict\n",
    "preds_list = []\n",
    "labels_list = []\n",
    "for test_images, test_labels in ds_val:\n",
    "    preds = simple_model(test_images, training=False)\n",
    "    preds_list.append(preds)\n",
    "    labels_list.append(test_labels)\n",
    "    # Print metrics for each batch.\n",
    "    tf.print(f'mae {mean_mae(test_labels, preds):.2f} mse {mean_mse(test_labels, preds):.2f}')\n",
    "all_labels = tf.concat(labels_list, axis=0)\n",
    "all_preds = tf.concat(preds_list, axis=0)\n",
    "tf.print(f'overall mae {mean_mae(all_labels, all_preds):.2f} mse {mean_mse(all_labels, all_preds):.2f}')"
   ]
  },
  {
   "cell_type": "code",
   "execution_count": 117,
   "metadata": {},
   "outputs": [],
   "source": [
    "all_labels_AD = all_labels\n",
    "all_preds_AD = all_preds"
   ]
  },
  {
   "cell_type": "code",
   "execution_count": 123,
   "metadata": {},
   "outputs": [
    {
     "data": {
      "text/plain": [
       "<matplotlib.collections.PathCollection at 0x7f2a88ec28d0>"
      ]
     },
     "execution_count": 123,
     "metadata": {},
     "output_type": "execute_result"
    },
    {
     "data": {
      "image/png": "[encoded data removed]",
      "text/plain": [
       "<Figure size 432x288 with 1 Axes>"
      ]
     },
     "metadata": {
      "needs_background": "light"
     },
     "output_type": "display_data"
    }
   ],
   "source": [
    "plt.scatter(all_labels[:, 0], all_preds[:, 2]- all_preds[:, 1])"
   ]
  },
  {
   "cell_type": "code",
   "execution_count": 120,
   "metadata": {},
   "outputs": [
    {
     "data": {
      "text/plain": [
       "<matplotlib.collections.PathCollection at 0x7f2a8b104950>"
      ]
     },
     "execution_count": 120,
     "metadata": {},
     "output_type": "execute_result"
    },
    {
     "data": {
      "image/png": "[encoded data removed]",
      "text/plain": [
       "<Figure size 432x288 with 1 Axes>"
      ]
     },
     "metadata": {
      "needs_background": "light"
     },
     "output_type": "display_data"
    }
   ],
   "source": [
    "plt.scatter(all_labels[:, 0],tf.sqrt(tf.exp(all_preds[:, 1]**2)))\n",
    "#tf.exp(all_preds[:, 1])"
   ]
  },
  {
   "cell_type": "code",
   "execution_count": 87,
   "metadata": {},
   "outputs": [
    {
     "data": {
      "text/plain": [
       "<matplotlib.collections.PathCollection at 0x7f2abc908b10>"
      ]
     },
     "execution_count": 87,
     "metadata": {},
     "output_type": "execute_result"
    },
    {
     "data": {
      "image/png": "[encoded data removed]",
      "text/plain": [
       "<Figure size 432x288 with 1 Axes>"
      ]
     },
     "metadata": {
      "needs_background": "light"
     },
     "output_type": "display_data"
    }
   ],
   "source": [
    "plt.scatter(all_labels_AD[:, 0], all_preds_AD[:, 0])\n",
    "plt.scatter(all_labels[:, 0], all_preds[:, 0])"
   ]
  },
  {
   "cell_type": "code",
   "execution_count": 89,
   "metadata": {},
   "outputs": [
    {
     "data": {
      "text/plain": [
       "<matplotlib.collections.PathCollection at 0x7f2ab59a1cd0>"
      ]
     },
     "execution_count": 89,
     "metadata": {},
     "output_type": "execute_result"
    },
    {
     "data": {
      "image/png": "[encoded data removed]",
      "text/plain": [
       "<Figure size 432x288 with 1 Axes>"
      ]
     },
     "metadata": {
      "needs_background": "light"
     },
     "output_type": "display_data"
    }
   ],
   "source": [
    "plt.scatter(all_labels_AD[:, 0], all_preds_AD[:, 2]- all_preds_AD[:, 1])\n",
    "plt.scatter(all_labels[:, 0], all_preds[:, 2]- all_preds[:, 1])"
   ]
  },
  {
   "cell_type": "code",
   "execution_count": 73,
   "metadata": {},
   "outputs": [
    {
     "name": "stdout",
     "output_type": "stream",
     "text": [
      "overall mae 2.07 mse 6.66\n"
     ]
    }
   ],
   "source": [
    "tf.print(f'overall mae {mean_mae(all_labels, all_preds):.2f} mse {mean_mse(all_labels, all_preds):.2f}')"
   ]
  },
  {
   "cell_type": "code",
   "execution_count": 74,
   "metadata": {},
   "outputs": [
    {
     "data": {
      "text/plain": [
       "<matplotlib.collections.PathCollection at 0x7f2ad031a050>"
      ]
     },
     "execution_count": 74,
     "metadata": {},
     "output_type": "execute_result"
    },
    {
     "data": {
      "image/png": "[encoded data removed]",
      "text/plain": [
       "<Figure size 432x288 with 1 Axes>"
      ]
     },
     "metadata": {
      "needs_background": "light"
     },
     "output_type": "display_data"
    }
   ],
   "source": [
    "plt.scatter(all_labels[:, 0], all_preds[:, 0])"
   ]
  },
  {
   "cell_type": "code",
   "execution_count": 75,
   "metadata": {},
   "outputs": [
    {
     "data": {
      "text/plain": [
       "<matplotlib.collections.PathCollection at 0x7f2ad033c910>"
      ]
     },
     "execution_count": 75,
     "metadata": {},
     "output_type": "execute_result"
    },
    {
     "data": {
      "image/png": "[encoded data removed]",
      "text/plain": [
       "<Figure size 432x288 with 1 Axes>"
      ]
     },
     "metadata": {
      "needs_background": "light"
     },
     "output_type": "display_data"
    }
   ],
   "source": [
    "plt.scatter(all_labels[:, 0], all_preds[:, 2]- all_preds[:, 1])"
   ]
  },
  {
   "cell_type": "code",
   "execution_count": null,
   "metadata": {},
   "outputs": [],
   "source": []
  }
 ],
 "metadata": {
  "kernelspec": {
   "display_name": "Python 3",
   "language": "python",
   "name": "python3"
  },
  "language_info": {
   "codemirror_mode": {
    "name": "ipython",
    "version": 3
   },
   "file_extension": ".py",
   "mimetype": "text/x-python",
   "name": "python",
   "nbconvert_exporter": "python",
   "pygments_lexer": "ipython3",
   "version": "3.7.4"
  }
 },
 "nbformat": 4,
 "nbformat_minor": 4
}
