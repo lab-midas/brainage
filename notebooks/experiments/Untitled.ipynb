{
 "cells": [
  {
   "cell_type": "code",
   "execution_count": 1,
   "metadata": {},
   "outputs": [],
   "source": [
    "from __future__ import absolute_import, division, print_function, unicode_literals\n",
    "from tensorflow.python.framework.ops import disable_eager_execution, enable_eager_execution\n",
    "enable_eager_execution()\n",
    "\n",
    "import os\n",
    "import sys\n",
    "sys.path.insert(0, '/mnt/home/raheppt1/projects/age_prediction')\n",
    "import numpy as np\n",
    "import datetime\n",
    "from pathlib import Path\n",
    "import matplotlib.pyplot as plt\n",
    "\n",
    "# tensorflow-gpu 2.1.0\n",
    "import tensorflow as tf\n",
    "from tensorflow import keras\n",
    "from tensorflow.keras.models import Sequential\n",
    "from tensorflow.keras.layers import Dense, Flatten, Conv3D, MaxPooling3D, Dropout, Conv2D\n",
    "from tensorflow.keras.layers import BatchNormalization, ReLU\n",
    "from tensorflow.keras.optimizers import *\n",
    "import tensorflow_probability as tfp\n",
    "\n",
    "from dataset import AgeData\n",
    "from misc import utils"
   ]
  },
  {
   "cell_type": "code",
   "execution_count": 2,
   "metadata": {},
   "outputs": [],
   "source": [
    "# todo move models to file\n",
    "def build_simple_model(input_shape=(124, 124, 124, 1),\n",
    "                       lambda_l2=0.00005):\n",
    "    model = Sequential()\n",
    "    model.add(Conv3D(8, kernel_size=(3, 3, 3),  padding='same', input_shape=input_shape))\n",
    "    model.add(ReLU())\n",
    "    model.add(MaxPooling3D(pool_size=(2, 2, 2)))\n",
    "    model.add(Conv3D(16, kernel_size=(3, 3, 3), padding='same'))\n",
    "    model.add(ReLU())\n",
    "    model.add(MaxPooling3D(pool_size=(2, 2, 2)))\n",
    "    model.add(Conv3D(32, kernel_size=(3, 3, 3), padding='same'))\n",
    "    model.add(ReLU())\n",
    "    model.add(MaxPooling3D(pool_size=(2, 2, 2)))\n",
    "    model.add(Conv3D(64, kernel_size=(3, 3, 3), padding='same'))\n",
    "    model.add(ReLU())\n",
    "    model.add(MaxPooling3D(pool_size=(2, 2, 2)))\n",
    "    model.add(Conv3D(128, kernel_size=(3, 3, 3), padding='same'))\n",
    "    model.add(ReLU())\n",
    "    model.add(MaxPooling3D(pool_size=(2, 2, 2)))\n",
    "    model.add(Flatten())\n",
    "    model.add(Dropout(0.5))\n",
    "    model.add(Dense(1024, activation='relu',\n",
    "                    kernel_regularizer=tf.keras.regularizers.l2(lambda_l2)))\n",
    "    model.add(Dropout(0.5))\n",
    "    model.add(Dense(512, activation='relu',\n",
    "                    kernel_regularizer=tf.keras.regularizers.l2(lambda_l2)))\n",
    "    model.add(Dense(1, activation='linear', bias_initializer=tf.constant_initializer(50.0)))\n",
    "    return model"
   ]
  },
  {
   "cell_type": "code",
   "execution_count": 3,
   "metadata": {},
   "outputs": [],
   "source": [
    "def build_aleatoric_model(input_shape=(124, 124, 124, 1),\n",
    "                         lambda_l2=0.00005):\n",
    "    model = Sequential()\n",
    "    model.add(Conv3D(8, kernel_size=(3, 3, 3),  padding='same', input_shape=input_shape))\n",
    "    model.add(ReLU())\n",
    "    model.add(MaxPooling3D(pool_size=(2, 2, 2)))\n",
    "    model.add(Conv3D(16, kernel_size=(3, 3, 3), padding='same'))\n",
    "    model.add(ReLU())\n",
    "    model.add(MaxPooling3D(pool_size=(2, 2, 2)))\n",
    "    model.add(Conv3D(32, kernel_size=(3, 3, 3), padding='same'))\n",
    "    model.add(ReLU())\n",
    "    model.add(MaxPooling3D(pool_size=(2, 2, 2)))\n",
    "    model.add(Conv3D(64, kernel_size=(3, 3, 3), padding='same'))\n",
    "    model.add(ReLU())\n",
    "    model.add(MaxPooling3D(pool_size=(2, 2, 2)))\n",
    "    model.add(Conv3D(128, kernel_size=(3, 3, 3), padding='same'))\n",
    "    model.add(ReLU())\n",
    "    model.add(MaxPooling3D(pool_size=(2, 2, 2)))\n",
    "    model.add(Flatten())\n",
    "    model.add(Dropout(0.5))\n",
    "    model.add(Dense(1024, activation='relu',\n",
    "                    kernel_regularizer=tf.keras.regularizers.l2(lambda_l2)))\n",
    "    model.add(Dropout(0.5))\n",
    "    model.add(Dense(512, activation='relu',\n",
    "                    kernel_regularizer=tf.keras.regularizers.l2(lambda_l2)))\n",
    "    model.add(Dense(1 + 1, activation='linear'))\n",
    "    model.add(tfp.layers.DistributionLambda(\n",
    "        lambda t: tfp.distributions.Normal(loc=t[..., :1],\n",
    "                                           scale=1e-3 + tf.math.softplus(0.05 * t[..., 1:]))))\n",
    "    return model\n"
   ]
  },
  {
   "cell_type": "code",
   "execution_count": 4,
   "metadata": {},
   "outputs": [],
   "source": [
    "def build_quantile_model(input_shape=(124, 124, 124, 1),\n",
    "                       lambda_l2=0.00005):\n",
    "    model = Sequential()\n",
    "    model.add(Conv3D(8, kernel_size=(3, 3, 3),  padding='same', input_shape=input_shape))\n",
    "    model.add(ReLU())\n",
    "    model.add(MaxPooling3D(pool_size=(2, 2, 2)))\n",
    "    model.add(Conv3D(16, kernel_size=(3, 3, 3), padding='same'))\n",
    "    model.add(ReLU())\n",
    "    model.add(MaxPooling3D(pool_size=(2, 2, 2)))\n",
    "    model.add(Conv3D(32, kernel_size=(3, 3, 3), padding='same'))\n",
    "    model.add(ReLU())\n",
    "    model.add(MaxPooling3D(pool_size=(2, 2, 2)))\n",
    "    model.add(Conv3D(64, kernel_size=(3, 3, 3), padding='same'))\n",
    "    model.add(ReLU())\n",
    "    model.add(MaxPooling3D(pool_size=(2, 2, 2)))\n",
    "    model.add(Conv3D(128, kernel_size=(3, 3, 3), padding='same'))\n",
    "    model.add(ReLU())\n",
    "    model.add(MaxPooling3D(pool_size=(2, 2, 2)))\n",
    "    model.add(Flatten())\n",
    "    model.add(Dropout(0.5))\n",
    "    model.add(Dense(1024, activation='relu',\n",
    "                    kernel_regularizer=tf.keras.regularizers.l2(lambda_l2)))\n",
    "    model.add(Dropout(0.5))\n",
    "    model.add(Dense(512, activation='relu',\n",
    "                    kernel_regularizer=tf.keras.regularizers.l2(lambda_l2)))\n",
    "    model.add(Dense(3, activation='linear', bias_initializer=tf.constant_initializer(50.0)))\n",
    "    return model"
   ]
  },
  {
   "cell_type": "code",
   "execution_count": 5,
   "metadata": {},
   "outputs": [],
   "source": [
    "def build_epistemic_model(input_shape=(124, 124, 124, 1)):\n",
    "    model = Sequential()\n",
    "    model.add(tfp.layers.Convolution3DReparameterization(8,\n",
    "                                                         kernel_size=(3, 3, 3),  padding='same',\n",
    "                                                         input_shape=input_shape))\n",
    "    model.add(ReLU())\n",
    "    model.add(MaxPooling3D(pool_size=(2, 2, 2)))\n",
    "    model.add(tfp.layers.Convolution3DReparameterization(16, kernel_size=(3, 3, 3), padding='same'))\n",
    "    model.add(ReLU())\n",
    "    model.add(MaxPooling3D(pool_size=(2, 2, 2)))\n",
    "    model.add(tfp.layers.Convolution3DReparameterization(32, kernel_size=(3, 3, 3), padding='same'))\n",
    "    model.add(ReLU())\n",
    "    model.add(MaxPooling3D(pool_size=(2, 2, 2)))\n",
    "    model.add(tfp.layers.Convolution3DReparameterization(64, kernel_size=(3, 3, 3), padding='same'))\n",
    "    model.add(ReLU())\n",
    "    model.add(MaxPooling3D(pool_size=(2, 2, 2)))\n",
    "    model.add(tfp.layers.Convolution3DReparameterization(128, kernel_size=(3, 3, 3), padding='same'))\n",
    "    model.add(ReLU())\n",
    "    model.add(MaxPooling3D(pool_size=(2, 2, 2)))\n",
    "    model.add(Flatten())\n",
    "    model.add(tfp.layers.DenseReparameterization(1024, activation='relu'))\n",
    "    model.add(tfp.layers.DenseReparameterization(512, activation='relu'))\n",
    "    model.add(tfp.layers.DenseReparameterization(1, activation='linear'))\n",
    "    model.add(tfp.layers.DistributionLambda(lambda t: tfp.distributions.Normal(loc=t, scale=1)))\n",
    "    return model"
   ]
  },
  {
   "cell_type": "code",
   "execution_count": 6,
   "metadata": {},
   "outputs": [],
   "source": [
    "def build_combined_model(input_shape=(124, 124, 124, 1)):\n",
    "    model = Sequential()\n",
    "    model.add(tfp.layers.Convolution3DReparameterization(8,\n",
    "                                                         kernel_size=(3, 3, 3),  padding='same',\n",
    "                                                         input_shape=input_shape))\n",
    "    model.add(ReLU())\n",
    "    model.add(MaxPooling3D(pool_size=(2, 2, 2)))\n",
    "    model.add(tfp.layers.Convolution3DReparameterization(16, kernel_size=(3, 3, 3), padding='same'))\n",
    "    model.add(ReLU())\n",
    "    model.add(MaxPooling3D(pool_size=(2, 2, 2)))\n",
    "    model.add(tfp.layers.Convolution3DReparameterization(32, kernel_size=(3, 3, 3), padding='same'))\n",
    "    model.add(ReLU())\n",
    "    model.add(MaxPooling3D(pool_size=(2, 2, 2)))\n",
    "    model.add(tfp.layers.Convolution3DReparameterization(64, kernel_size=(3, 3, 3), padding='same'))\n",
    "    model.add(ReLU())\n",
    "    model.add(MaxPooling3D(pool_size=(2, 2, 2)))\n",
    "    model.add(tfp.layers.Convolution3DReparameterization(128, kernel_size=(3, 3, 3), padding='same'))\n",
    "    model.add(ReLU())\n",
    "    model.add(MaxPooling3D(pool_size=(2, 2, 2)))\n",
    "    model.add(Flatten())\n",
    "    model.add(tfp.layers.DenseReparameterization(1024, activation='relu'))\n",
    "    model.add(tfp.layers.DenseReparameterization(512, activation='relu'))\n",
    "    model.add(tfp.layers.DenseReparameterization(1 + 1, activation='linear'))\n",
    "    model.add(tfp.layers.DistributionLambda(\n",
    "              lambda t: tfp.distributions.Normal(loc=t[..., :1],\n",
    "                                                 scale=1e-3 + tf.math.softplus(0.05 * t[..., 1:]))))\n",
    "    return model"
   ]
  },
  {
   "cell_type": "code",
   "execution_count": 7,
   "metadata": {},
   "outputs": [],
   "source": [
    "image_size = [100, 120, 100]\n",
    "image_spacing = [1.5, 1.5, 1.5]\n",
    "lambda_l2 = 0.00005\n",
    "batch_size = 16\n",
    "\n",
    "# TODO save current models to file!!!!!!!!!!!!!!!!!!!!\n",
    "# replace with models from defitinion file\n",
    "# Update all trainings (MAE, MSE metrics, loss function, KL_loss)"
   ]
  },
  {
   "cell_type": "code",
   "execution_count": 8,
   "metadata": {},
   "outputs": [
    {
     "name": "stdout",
     "output_type": "stream",
     "text": [
      "loaded 410 ids\n",
      "loaded 103 ids\n",
      "410 103\n"
     ]
    }
   ],
   "source": [
    "# Load training and test data.\n",
    "age_data = AgeData(image_size,\n",
    "                   image_spacing,\n",
    "                   shuffle_training_images=True,\n",
    "                   save_debug_images=False)\n",
    "dataset_train = age_data.dataset_train()\n",
    "train_samples = dataset_train.num_entries()\n",
    "dataset_val = age_data.dataset_val()\n",
    "val_samples = dataset_val.num_entries()\n",
    "print(train_samples, val_samples)\n",
    "\n",
    "# Define training and validation datasets from generators.\n",
    "def train_gen():\n",
    "    data = dataset_train\n",
    "    i = 0\n",
    "    while i < data.num_entries():\n",
    "        sample = data.get_next()\n",
    "        # DHWC tensor format\n",
    "        image = sample['generators']['image'].transpose([1, 2, 3, 0])\n",
    "        image = image.astype('float32')\n",
    "        age = sample['generators']['age']\n",
    "        yield image, age\n",
    "        i += 1\n",
    "\n",
    "def val_gen():\n",
    "    data = dataset_val\n",
    "    i = 0\n",
    "    while i < data.num_entries():\n",
    "        sample = data.get_next()\n",
    "        image = sample['generators']['image'].transpose([1, 2, 3, 0])\n",
    "        image = image.astype('float32')\n",
    "        age = sample['generators']['age']\n",
    "        yield image, age\n",
    "        i += 1\n",
    "\n",
    "ds_train = tf.data.Dataset.from_generator(train_gen,\n",
    "                                          output_types=(tf.float32, tf.float32),\n",
    "                                          output_shapes=(tf.TensorShape((None, None, None, None)),\n",
    "                                                         tf.TensorShape((1, ))))\n",
    "ds_train = ds_train.batch(batch_size=batch_size)\n",
    "\n",
    "ds_val = tf.data.Dataset.from_generator(val_gen,\n",
    "                                        output_types=(tf.float32, tf.float32),\n",
    "                                        output_shapes=(tf.TensorShape((None, None, None, None)),\n",
    "                                                       tf.TensorShape((1, ))))\n",
    "ds_val = ds_val.batch(batch_size=batch_size)"
   ]
  },
  {
   "cell_type": "code",
   "execution_count": 10,
   "metadata": {},
   "outputs": [
    {
     "name": "stdout",
     "output_type": "stream",
     "text": [
      "WARNING:tensorflow:Inconsistent references when loading the checkpoint into this object graph. Either the Trackable object references in the Python program have changed in an incompatible way, or the checkpoint was generated in an incompatible program.\n",
      "\n",
      "Two checkpoint references resolved to different objects (<tensorflow.python.keras.layers.core.Dense object at 0x7f76a44df8d0> and <tensorflow.python.keras.layers.core.Dropout object at 0x7f76a44cbdd0>).\n",
      "WARNING:tensorflow:Inconsistent references when loading the checkpoint into this object graph. Either the Trackable object references in the Python program have changed in an incompatible way, or the checkpoint was generated in an incompatible program.\n",
      "\n",
      "Two checkpoint references resolved to different objects (<tensorflow.python.keras.layers.core.Dense object at 0x7f76a44e2610> and <tensorflow.python.keras.layers.core.Dense object at 0x7f76a44df8d0>).\n",
      "WARNING:tensorflow:Inconsistent references when loading the checkpoint into this object graph. Either the Trackable object references in the Python program have changed in an incompatible way, or the checkpoint was generated in an incompatible program.\n",
      "\n",
      "Two checkpoint references resolved to different objects (<tensorflow.python.keras.layers.core.Dense object at 0x7f76a4495c50> and <tensorflow.python.keras.layers.core.Dropout object at 0x7f76a44e29d0>).\n"
     ]
    }
   ],
   "source": [
    "simple_model = build_simple_model(image_size + [1], lambda_l2)\n",
    "aleatoric_model = build_aleatoric_model(image_size + [1], lambda_l2)\n",
    "quantile_model = build_quantile_model(image_size + [1], lambda_l2)\n",
    "epistemic_model = build_epistemic_model(image_size + [1])\n",
    "combined_model = build_combined_model(image_size + [1])\n",
    "\n",
    "checkpoint_path = Path('/mnt/share/raheppt1/tf_models/age/keras/aleatoric_01/')\n",
    "latest = tf.train.latest_checkpoint(checkpoint_path)\n",
    "aleatoric_model.load_weights(str(latest))\n",
    "\n",
    "checkpoint_path = Path('/mnt/share/raheppt1/tf_models/age/keras/quantile_02/')\n",
    "latest = tf.train.latest_checkpoint(checkpoint_path)\n",
    "quantile_model.load_weights(str(latest))\n",
    "\n",
    "#checkpoint_path = Path('/mnt/share/raheppt1/tf_models/age/keras/epistemic_02/')\n",
    "#latest = tf.train.latest_checkpoint(checkpoint_path)\n",
    "#epistemic_model.load_weights(str(latest))\n",
    "\n",
    "#checkpoint_path = Path('/mnt/share/raheppt1/tf_models/age/keras/combined_01/')\n",
    "#latest = tf.train.latest_checkpoint(checkpoint_path)\n",
    "def mean_mae(y_true, y_pred):\n",
    "    return tf.keras.losses.MAE(y_true[:, 0], y_pred[:, 1])\n",
    "\n",
    "def mean_mse(y_true, y_pred):\n",
    "    return tf.keras.losses.MSE(y_true[:, 0], y_pred[:, 1])\n",
    "#combined_model.load_weights(str(latest))"
   ]
  },
  {
   "cell_type": "code",
   "execution_count": 24,
   "metadata": {},
   "outputs": [
    {
     "name": "stdout",
     "output_type": "stream",
     "text": [
      "tf.Tensor(6.8375654, shape=(), dtype=float32)\n",
      "tf.Tensor(84.53161, shape=(), dtype=float32)\n",
      "tf.Tensor(5.1710305, shape=(), dtype=float32)\n",
      "tf.Tensor(36.368275, shape=(), dtype=float32)\n",
      "tf.Tensor(7.3925138, shape=(), dtype=float32)\n",
      "tf.Tensor(75.67369, shape=(), dtype=float32)\n",
      "tf.Tensor(5.496934, shape=(), dtype=float32)\n",
      "tf.Tensor(46.657288, shape=(), dtype=float32)\n",
      "tf.Tensor(5.001235, shape=(), dtype=float32)\n",
      "tf.Tensor(42.789032, shape=(), dtype=float32)\n",
      "tf.Tensor(7.002363, shape=(), dtype=float32)\n",
      "tf.Tensor(64.11942, shape=(), dtype=float32)\n",
      "tf.Tensor(7.5936427, shape=(), dtype=float32)\n",
      "tf.Tensor(90.54217, shape=(), dtype=float32)\n"
     ]
    }
   ],
   "source": [
    "def mean_mae(y_true, y_pred):\n",
    "    return tf.keras.losses.MAE(y_true[:, 0], y_pred.mean()[:, 0])\n",
    "\n",
    "def mean_mse(y_true, y_pred):\n",
    "    return tf.keras.losses.MSE(y_true[:, 0], y_pred.mean()[:, 0])\n",
    "\n",
    "preds_list = []\n",
    "test_list = []\n",
    "for test_images, test_labels in ds_val:\n",
    "    predictions = aleatoric_model(test_images, training=False)\n",
    "    preds_list.append(tf.concat([predictions.mean(), predictions.stddev()], axis=1))\n",
    "    test_list.append(test_labels)\n",
    "    print(mean_mae(test_labels, predictions))\n",
    "    print(mean_mse(test_labels, predictions))\n",
    "all_tests = tf.concat(test_list, axis=0)\n",
    "all_preds = tf.concat(preds_list, axis=0)\n"
   ]
  },
  {
   "cell_type": "code",
   "execution_count": 26,
   "metadata": {},
   "outputs": [
    {
     "data": {
      "image/png": "[encoded data removed]",
      "text/plain": [
       "<Figure size 432x288 with 1 Axes>"
      ]
     },
     "metadata": {
      "needs_background": "light"
     },
     "output_type": "display_data"
    },
    {
     "data": {
      "image/png": "[encoded data removed]",
      "text/plain": [
       "<Figure size 432x288 with 1 Axes>"
      ]
     },
     "metadata": {
      "needs_background": "light"
     },
     "output_type": "display_data"
    },
    {
     "data": {
      "image/png": "[encoded data removed]",
      "text/plain": [
       "<Figure size 432x288 with 1 Axes>"
      ]
     },
     "metadata": {
      "needs_background": "light"
     },
     "output_type": "display_data"
    }
   ],
   "source": [
    "plt.scatter((all_tests[:, 0]+all_preds[:, 0])/2, all_tests[:, 0] - all_preds[:, 0])\n",
    "plt.show()\n",
    "plt.scatter(all_preds[:, 0], all_preds[:, 1])\n",
    "plt.show()\n",
    "\n",
    "plt.scatter(all_tests[:, 0]-all_preds[:, 0], all_preds[:, 1])\n",
    "plt.show()"
   ]
  },
  {
   "cell_type": "code",
   "execution_count": 11,
   "metadata": {},
   "outputs": [
    {
     "name": "stdout",
     "output_type": "stream",
     "text": [
      "tf.Tensor(7.7858205, shape=(), dtype=float32)\n",
      "tf.Tensor(88.54587, shape=(), dtype=float32)\n",
      "tf.Tensor(3.9006574, shape=(), dtype=float32)\n",
      "tf.Tensor(23.547226, shape=(), dtype=float32)\n",
      "tf.Tensor(5.6472583, shape=(), dtype=float32)\n",
      "tf.Tensor(42.70907, shape=(), dtype=float32)\n",
      "tf.Tensor(6.058401, shape=(), dtype=float32)\n",
      "tf.Tensor(61.115677, shape=(), dtype=float32)\n",
      "tf.Tensor(5.0250216, shape=(), dtype=float32)\n",
      "tf.Tensor(39.13021, shape=(), dtype=float32)\n",
      "tf.Tensor(3.8418744, shape=(), dtype=float32)\n",
      "tf.Tensor(25.941713, shape=(), dtype=float32)\n",
      "tf.Tensor(7.688152, shape=(), dtype=float32)\n",
      "tf.Tensor(91.45399, shape=(), dtype=float32)\n"
     ]
    },
    {
     "data": {
      "image/png": "[encoded data removed]",
      "text/plain": [
       "<Figure size 432x288 with 1 Axes>"
      ]
     },
     "metadata": {
      "needs_background": "light"
     },
     "output_type": "display_data"
    },
    {
     "data": {
      "image/png": "[encoded data removed]",
      "text/plain": [
       "<Figure size 432x288 with 1 Axes>"
      ]
     },
     "metadata": {
      "needs_background": "light"
     },
     "output_type": "display_data"
    },
    {
     "data": {
      "image/png": "[encoded data removed]",
      "text/plain": [
       "<Figure size 432x288 with 1 Axes>"
      ]
     },
     "metadata": {
      "needs_background": "light"
     },
     "output_type": "display_data"
    }
   ],
   "source": [
    "def mean_mae(y_true, y_pred):\n",
    "    return tf.keras.losses.MAE(y_true[:, 0], y_pred[:, 1])\n",
    "\n",
    "def mean_mse(y_true, y_pred):\n",
    "    return tf.keras.losses.MSE(y_true[:, 0], y_pred[:, 1])\n",
    "\n",
    "pred_list = []\n",
    "test_list = []\n",
    "for test_images, test_labels in ds_val:\n",
    "    predictions = quantile_model(test_images, training=False)\n",
    "    pred_list.append(predictions)\n",
    "    test_list.append(test_labels)\n",
    "    print(mean_mae(test_labels, predictions))\n",
    "    print(mean_mse(test_labels, predictions))\n",
    "all_tests = tf.concat(test_list, axis=0)\n",
    "all_preds = tf.concat(pred_list, axis=0)\n"
   ]
  },
  {
   "cell_type": "code",
   "execution_count": 23,
   "metadata": {},
   "outputs": [
    {
     "data": {
      "image/png": "[encoded data removed]",
      "text/plain": [
       "<Figure size 432x288 with 1 Axes>"
      ]
     },
     "metadata": {
      "needs_background": "light"
     },
     "output_type": "display_data"
    },
    {
     "data": {
      "image/png": "[encoded data removed]",
      "text/plain": [
       "<Figure size 432x288 with 1 Axes>"
      ]
     },
     "metadata": {
      "needs_background": "light"
     },
     "output_type": "display_data"
    },
    {
     "data": {
      "image/png": "[encoded data removed]",
      "text/plain": [
       "<Figure size 432x288 with 1 Axes>"
      ]
     },
     "metadata": {
      "needs_background": "light"
     },
     "output_type": "display_data"
    },
    {
     "name": "stdout",
     "output_type": "stream",
     "text": [
      "0.22423497649325044\n"
     ]
    }
   ],
   "source": [
    "plt.scatter((all_preds[:, 1]+all_tests[:, 0])/2\n",
    "            , all_preds[:, 1]-all_tests[:, 0])\n",
    "plt.show()\n",
    "plt.scatter(all_preds[:, 1], all_preds[:, 2] - all_preds[:, 0])\n",
    "plt.show()\n",
    "plt.scatter(tf.abs(all_preds[:, 1] - all_tests[:, 0]), all_preds[:, 2] - all_preds[:, 0])\n",
    "plt.show()\n",
    "\n",
    "from scipy.stats import pearsonr\n",
    "pred_error = all_preds[:, 2] - all_preds[:, 0]\n",
    "pred_error = pred_error.numpy()\n",
    "corr, _ = pearsonr(tf.abs(all_preds[:, 1] - all_tests[:, 0]).numpy(), pred_error )\n",
    "print(corr)"
   ]
  },
  {
   "cell_type": "code",
   "execution_count": 21,
   "metadata": {},
   "outputs": [
    {
     "name": "stdout",
     "output_type": "stream",
     "text": [
      "tf.Tensor(\n",
      "[[67.73991 ]\n",
      " [73.56332 ]\n",
      " [48.678986]\n",
      " [56.919918]\n",
      " [52.689938]\n",
      " [64.10404 ]\n",
      " [54.19302 ]\n",
      " [41.09514 ]\n",
      " [60.919918]\n",
      " [67.16222 ]\n",
      " [58.792606]\n",
      " [66.9076  ]\n",
      " [64.64613 ]\n",
      " [46.431213]\n",
      " [62.455853]\n",
      " [53.749485]], shape=(16, 1), dtype=float32)\n",
      "tf.Tensor(\n",
      "[[108.92662 ]\n",
      " [ 50.178936]\n",
      " [ 86.0356  ]\n",
      " [180.99731 ]\n",
      " [125.18924 ]\n",
      " [ 17.438063]\n",
      " [114.72191 ]\n",
      " [136.00891 ]\n",
      " [ 55.508846]\n",
      " [101.5226  ]\n",
      " [136.67915 ]\n",
      " [ 99.34773 ]\n",
      " [ 46.07519 ]\n",
      " [141.38326 ]\n",
      " [ 75.6028  ]\n",
      " [ 53.91824 ]], shape=(16, 1), dtype=float32)\n"
     ]
    }
   ],
   "source": [
    "\n",
    "for test_images, test_labels in ds_val:\n",
    "    predictions = epistemic_model(test_images, training=False)\n",
    "    print(test_labels)\n",
    "    print(predictions.mean())\n",
    "    break"
   ]
  },
  {
   "cell_type": "code",
   "execution_count": 54,
   "metadata": {},
   "outputs": [
    {
     "name": "stdout",
     "output_type": "stream",
     "text": [
      "tf.Tensor(\n",
      "[[21.566051]\n",
      " [74.02601 ]\n",
      " [23.34839 ]\n",
      " [37.73306 ]\n",
      " [31.854895]\n",
      " [41.752224]\n",
      " [28.158794]\n",
      " [46.168377]\n",
      " [68.602325]\n",
      " [52.533882]\n",
      " [49.40452 ]\n",
      " [41.82067 ]\n",
      " [26.877481]\n",
      " [29.730322]\n",
      " [41.511295]\n",
      " [45.774128]], shape=(16, 1), dtype=float32)\n",
      "tf.Tensor(\n",
      "[[52267.24 ]\n",
      " [64549.027]\n",
      " [65051.613]\n",
      " [57610.87 ]\n",
      " [65794.445]\n",
      " [59610.926]\n",
      " [61448.77 ]\n",
      " [64126.062]\n",
      " [60928.074]\n",
      " [61557.008]\n",
      " [59820.543]\n",
      " [62356.05 ]\n",
      " [60548.22 ]\n",
      " [58984.168]\n",
      " [54842.746]\n",
      " [57183.418]], shape=(16, 1), dtype=float32)\n"
     ]
    }
   ],
   "source": [
    "for test_images, test_labels in ds_val:\n",
    "    predictions = combined_model(test_images, training=False)\n",
    "    print(test_labels)\n",
    "    print(predictions.stddev())\n",
    "    break"
   ]
  },
  {
   "cell_type": "code",
   "execution_count": null,
   "metadata": {},
   "outputs": [],
   "source": [
    "# mae losses\n",
    "# results aleatoric quantile\n",
    "# test bayesian with mse"
   ]
  }
 ],
 "metadata": {
  "kernelspec": {
   "display_name": "Python 3",
   "language": "python",
   "name": "python3"
  },
  "language_info": {
   "codemirror_mode": {
    "name": "ipython",
    "version": 3
   },
   "file_extension": ".py",
   "mimetype": "text/x-python",
   "name": "python",
   "nbconvert_exporter": "python",
   "pygments_lexer": "ipython3",
   "version": "3.7.4"
  }
 },
 "nbformat": 4,
 "nbformat_minor": 4
}
